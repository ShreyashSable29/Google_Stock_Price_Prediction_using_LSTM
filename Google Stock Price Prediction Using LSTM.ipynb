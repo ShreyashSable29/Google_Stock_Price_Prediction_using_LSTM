{
 "cells": [
  {
   "cell_type": "markdown",
   "id": "dfd24eb9",
   "metadata": {},
   "source": [
    "## Google Stock Price Prediction using LSTM"
   ]
  },
  {
   "cell_type": "markdown",
   "id": "ccce82d7",
   "metadata": {},
   "source": [
    "A stock market is a public market where you can buy and sell shares for publicly listed companies. The stocks, also known as equities, represent ownership in the company. The stock exchange is the mediator that allows the buying and selling of shares."
   ]
  },
  {
   "cell_type": "markdown",
   "id": "63bfad32",
   "metadata": {},
   "source": [
    "### Importance of Stock Market\n",
    "- Stock markets help companies to raise capital.\n",
    "- It helps generate personal wealth.\n",
    "- Stock markets serve as an indicator of the state of the economy.\n",
    "- It is a widely used source for people to invest money in companies with high growth potential."
   ]
  },
  {
   "cell_type": "markdown",
   "id": "b4b43266",
   "metadata": {},
   "source": [
    "### Stock Price Prediction\n",
    "Stock Price Prediction using machine learning helps you discover the future value of company stock and other financial assets traded on an exchange. The entire idea of predicting stock prices is to gain significant profits. Predicting how the stock market will perform is a hard task to do. There are other factors involved in the prediction, such as physical and psychological factors, rational and irrational behavior, and so on. All these factors combine to make share prices dynamic and volatile. This makes it very difficult to predict stock prices with high accuracy. "
   ]
  },
  {
   "cell_type": "markdown",
   "id": "907b2a1a",
   "metadata": {},
   "source": [
    "#### Importing the Necessary Libraries"
   ]
  },
  {
   "cell_type": "code",
   "execution_count": 1,
   "id": "bf4ccf54",
   "metadata": {},
   "outputs": [
    {
     "name": "stdout",
     "output_type": "stream",
     "text": [
      "Requirement already satisfied: keras in c:\\users\\lenovo\\anaconda3\\lib\\site-packages (2.11.0)\n"
     ]
    }
   ],
   "source": [
    "!pip install keras"
   ]
  },
  {
   "cell_type": "code",
   "execution_count": 2,
   "id": "e697fb5e",
   "metadata": {},
   "outputs": [
    {
     "name": "stdout",
     "output_type": "stream",
     "text": [
      "Requirement already satisfied: tensorflow in c:\\users\\lenovo\\anaconda3\\lib\\site-packages (2.11.0)\n",
      "Requirement already satisfied: tensorflow-intel==2.11.0 in c:\\users\\lenovo\\anaconda3\\lib\\site-packages (from tensorflow) (2.11.0)\n",
      "Requirement already satisfied: grpcio<2.0,>=1.24.3 in c:\\users\\lenovo\\anaconda3\\lib\\site-packages (from tensorflow-intel==2.11.0->tensorflow) (1.51.1)\n",
      "Requirement already satisfied: flatbuffers>=2.0 in c:\\users\\lenovo\\anaconda3\\lib\\site-packages (from tensorflow-intel==2.11.0->tensorflow) (22.12.6)\n",
      "Requirement already satisfied: tensorflow-estimator<2.12,>=2.11.0 in c:\\users\\lenovo\\anaconda3\\lib\\site-packages (from tensorflow-intel==2.11.0->tensorflow) (2.11.0)\n",
      "Requirement already satisfied: wrapt>=1.11.0 in c:\\users\\lenovo\\anaconda3\\lib\\site-packages (from tensorflow-intel==2.11.0->tensorflow) (1.14.1)\n",
      "Requirement already satisfied: h5py>=2.9.0 in c:\\users\\lenovo\\anaconda3\\lib\\site-packages (from tensorflow-intel==2.11.0->tensorflow) (3.7.0)\n",
      "Requirement already satisfied: keras<2.12,>=2.11.0 in c:\\users\\lenovo\\anaconda3\\lib\\site-packages (from tensorflow-intel==2.11.0->tensorflow) (2.11.0)\n",
      "Requirement already satisfied: six>=1.12.0 in c:\\users\\lenovo\\anaconda3\\lib\\site-packages (from tensorflow-intel==2.11.0->tensorflow) (1.16.0)\n",
      "Requirement already satisfied: packaging in c:\\users\\lenovo\\anaconda3\\lib\\site-packages (from tensorflow-intel==2.11.0->tensorflow) (21.3)\n",
      "Requirement already satisfied: opt-einsum>=2.3.2 in c:\\users\\lenovo\\anaconda3\\lib\\site-packages (from tensorflow-intel==2.11.0->tensorflow) (3.3.0)\n",
      "Requirement already satisfied: google-pasta>=0.1.1 in c:\\users\\lenovo\\anaconda3\\lib\\site-packages (from tensorflow-intel==2.11.0->tensorflow) (0.2.0)\n",
      "Requirement already satisfied: astunparse>=1.6.0 in c:\\users\\lenovo\\anaconda3\\lib\\site-packages (from tensorflow-intel==2.11.0->tensorflow) (1.6.3)\n",
      "Requirement already satisfied: setuptools in c:\\users\\lenovo\\anaconda3\\lib\\site-packages (from tensorflow-intel==2.11.0->tensorflow) (63.4.1)\n",
      "Requirement already satisfied: libclang>=13.0.0 in c:\\users\\lenovo\\anaconda3\\lib\\site-packages (from tensorflow-intel==2.11.0->tensorflow) (14.0.6)\n",
      "Requirement already satisfied: termcolor>=1.1.0 in c:\\users\\lenovo\\anaconda3\\lib\\site-packages (from tensorflow-intel==2.11.0->tensorflow) (2.1.1)\n",
      "Requirement already satisfied: typing-extensions>=3.6.6 in c:\\users\\lenovo\\anaconda3\\lib\\site-packages (from tensorflow-intel==2.11.0->tensorflow) (4.3.0)\n",
      "Requirement already satisfied: tensorboard<2.12,>=2.11 in c:\\users\\lenovo\\anaconda3\\lib\\site-packages (from tensorflow-intel==2.11.0->tensorflow) (2.11.0)\n",
      "Requirement already satisfied: numpy>=1.20 in c:\\users\\lenovo\\anaconda3\\lib\\site-packages (from tensorflow-intel==2.11.0->tensorflow) (1.21.5)\n",
      "Requirement already satisfied: absl-py>=1.0.0 in c:\\users\\lenovo\\anaconda3\\lib\\site-packages (from tensorflow-intel==2.11.0->tensorflow) (1.3.0)\n",
      "Requirement already satisfied: gast<=0.4.0,>=0.2.1 in c:\\users\\lenovo\\anaconda3\\lib\\site-packages (from tensorflow-intel==2.11.0->tensorflow) (0.4.0)\n",
      "Requirement already satisfied: protobuf<3.20,>=3.9.2 in c:\\users\\lenovo\\anaconda3\\lib\\site-packages (from tensorflow-intel==2.11.0->tensorflow) (3.19.6)\n",
      "Requirement already satisfied: tensorflow-io-gcs-filesystem>=0.23.1 in c:\\users\\lenovo\\anaconda3\\lib\\site-packages (from tensorflow-intel==2.11.0->tensorflow) (0.29.0)\n",
      "Requirement already satisfied: wheel<1.0,>=0.23.0 in c:\\users\\lenovo\\anaconda3\\lib\\site-packages (from astunparse>=1.6.0->tensorflow-intel==2.11.0->tensorflow) (0.37.1)\n",
      "Requirement already satisfied: tensorboard-plugin-wit>=1.6.0 in c:\\users\\lenovo\\anaconda3\\lib\\site-packages (from tensorboard<2.12,>=2.11->tensorflow-intel==2.11.0->tensorflow) (1.8.1)\n",
      "Requirement already satisfied: requests<3,>=2.21.0 in c:\\users\\lenovo\\anaconda3\\lib\\site-packages (from tensorboard<2.12,>=2.11->tensorflow-intel==2.11.0->tensorflow) (2.28.1)\n",
      "Requirement already satisfied: google-auth-oauthlib<0.5,>=0.4.1 in c:\\users\\lenovo\\anaconda3\\lib\\site-packages (from tensorboard<2.12,>=2.11->tensorflow-intel==2.11.0->tensorflow) (0.4.6)\n",
      "Requirement already satisfied: tensorboard-data-server<0.7.0,>=0.6.0 in c:\\users\\lenovo\\anaconda3\\lib\\site-packages (from tensorboard<2.12,>=2.11->tensorflow-intel==2.11.0->tensorflow) (0.6.1)\n",
      "Requirement already satisfied: google-auth<3,>=1.6.3 in c:\\users\\lenovo\\anaconda3\\lib\\site-packages (from tensorboard<2.12,>=2.11->tensorflow-intel==2.11.0->tensorflow) (2.15.0)\n",
      "Requirement already satisfied: werkzeug>=1.0.1 in c:\\users\\lenovo\\anaconda3\\lib\\site-packages (from tensorboard<2.12,>=2.11->tensorflow-intel==2.11.0->tensorflow) (2.0.3)\n",
      "Requirement already satisfied: markdown>=2.6.8 in c:\\users\\lenovo\\anaconda3\\lib\\site-packages (from tensorboard<2.12,>=2.11->tensorflow-intel==2.11.0->tensorflow) (3.3.4)\n",
      "Requirement already satisfied: pyparsing!=3.0.5,>=2.0.2 in c:\\users\\lenovo\\anaconda3\\lib\\site-packages (from packaging->tensorflow-intel==2.11.0->tensorflow) (3.0.9)\n",
      "Requirement already satisfied: cachetools<6.0,>=2.0.0 in c:\\users\\lenovo\\anaconda3\\lib\\site-packages (from google-auth<3,>=1.6.3->tensorboard<2.12,>=2.11->tensorflow-intel==2.11.0->tensorflow) (5.2.0)\n",
      "Requirement already satisfied: rsa<5,>=3.1.4 in c:\\users\\lenovo\\anaconda3\\lib\\site-packages (from google-auth<3,>=1.6.3->tensorboard<2.12,>=2.11->tensorflow-intel==2.11.0->tensorflow) (4.9)\n",
      "Requirement already satisfied: pyasn1-modules>=0.2.1 in c:\\users\\lenovo\\anaconda3\\lib\\site-packages (from google-auth<3,>=1.6.3->tensorboard<2.12,>=2.11->tensorflow-intel==2.11.0->tensorflow) (0.2.8)\n",
      "Requirement already satisfied: requests-oauthlib>=0.7.0 in c:\\users\\lenovo\\anaconda3\\lib\\site-packages (from google-auth-oauthlib<0.5,>=0.4.1->tensorboard<2.12,>=2.11->tensorflow-intel==2.11.0->tensorflow) (1.3.1)\n",
      "Requirement already satisfied: certifi>=2017.4.17 in c:\\users\\lenovo\\anaconda3\\lib\\site-packages (from requests<3,>=2.21.0->tensorboard<2.12,>=2.11->tensorflow-intel==2.11.0->tensorflow) (2022.9.24)\n",
      "Requirement already satisfied: idna<4,>=2.5 in c:\\users\\lenovo\\anaconda3\\lib\\site-packages (from requests<3,>=2.21.0->tensorboard<2.12,>=2.11->tensorflow-intel==2.11.0->tensorflow) (3.3)\n",
      "Requirement already satisfied: urllib3<1.27,>=1.21.1 in c:\\users\\lenovo\\anaconda3\\lib\\site-packages (from requests<3,>=2.21.0->tensorboard<2.12,>=2.11->tensorflow-intel==2.11.0->tensorflow) (1.26.11)\n",
      "Requirement already satisfied: charset-normalizer<3,>=2 in c:\\users\\lenovo\\anaconda3\\lib\\site-packages (from requests<3,>=2.21.0->tensorboard<2.12,>=2.11->tensorflow-intel==2.11.0->tensorflow) (2.0.4)\n",
      "Requirement already satisfied: pyasn1<0.5.0,>=0.4.6 in c:\\users\\lenovo\\anaconda3\\lib\\site-packages (from pyasn1-modules>=0.2.1->google-auth<3,>=1.6.3->tensorboard<2.12,>=2.11->tensorflow-intel==2.11.0->tensorflow) (0.4.8)\n",
      "Requirement already satisfied: oauthlib>=3.0.0 in c:\\users\\lenovo\\anaconda3\\lib\\site-packages (from requests-oauthlib>=0.7.0->google-auth-oauthlib<0.5,>=0.4.1->tensorboard<2.12,>=2.11->tensorflow-intel==2.11.0->tensorflow) (3.2.2)\n"
     ]
    }
   ],
   "source": [
    "!pip install tensorflow"
   ]
  },
  {
   "cell_type": "code",
   "execution_count": 3,
   "id": "e474d27b",
   "metadata": {},
   "outputs": [],
   "source": [
    "## Libraries which we are going to use in this project\n",
    "import pandas as pd\n",
    "import numpy as np\n",
    "import matplotlib.pyplot as plt\n",
    "import seaborn as sns\n",
    "from sklearn.preprocessing import MinMaxScaler\n",
    "from sklearn.model_selection import learning_curve\n",
    "from keras.models import Sequential\n",
    "from keras.layers import LSTM, Dense, Dropout"
   ]
  },
  {
   "cell_type": "markdown",
   "id": "9847778f",
   "metadata": {},
   "source": [
    "#### Importing the dataset and Viewing it"
   ]
  },
  {
   "cell_type": "markdown",
   "id": "f6f054a3",
   "metadata": {},
   "source": [
    "##### Train DataSet"
   ]
  },
  {
   "cell_type": "code",
   "execution_count": 4,
   "id": "78d3c86a",
   "metadata": {},
   "outputs": [
    {
     "data": {
      "text/html": [
       "<div>\n",
       "<style scoped>\n",
       "    .dataframe tbody tr th:only-of-type {\n",
       "        vertical-align: middle;\n",
       "    }\n",
       "\n",
       "    .dataframe tbody tr th {\n",
       "        vertical-align: top;\n",
       "    }\n",
       "\n",
       "    .dataframe thead th {\n",
       "        text-align: right;\n",
       "    }\n",
       "</style>\n",
       "<table border=\"1\" class=\"dataframe\">\n",
       "  <thead>\n",
       "    <tr style=\"text-align: right;\">\n",
       "      <th></th>\n",
       "      <th>Open</th>\n",
       "      <th>High</th>\n",
       "      <th>Low</th>\n",
       "      <th>Close</th>\n",
       "      <th>Volume</th>\n",
       "    </tr>\n",
       "    <tr>\n",
       "      <th>Date</th>\n",
       "      <th></th>\n",
       "      <th></th>\n",
       "      <th></th>\n",
       "      <th></th>\n",
       "      <th></th>\n",
       "    </tr>\n",
       "  </thead>\n",
       "  <tbody>\n",
       "    <tr>\n",
       "      <th>2012-01-03</th>\n",
       "      <td>325.25</td>\n",
       "      <td>332.83</td>\n",
       "      <td>324.97</td>\n",
       "      <td>663.59</td>\n",
       "      <td>7,380,500</td>\n",
       "    </tr>\n",
       "    <tr>\n",
       "      <th>2012-01-04</th>\n",
       "      <td>331.27</td>\n",
       "      <td>333.87</td>\n",
       "      <td>329.08</td>\n",
       "      <td>666.45</td>\n",
       "      <td>5,749,400</td>\n",
       "    </tr>\n",
       "    <tr>\n",
       "      <th>2012-01-05</th>\n",
       "      <td>329.83</td>\n",
       "      <td>330.75</td>\n",
       "      <td>326.89</td>\n",
       "      <td>657.21</td>\n",
       "      <td>6,590,300</td>\n",
       "    </tr>\n",
       "    <tr>\n",
       "      <th>2012-01-06</th>\n",
       "      <td>328.34</td>\n",
       "      <td>328.77</td>\n",
       "      <td>323.68</td>\n",
       "      <td>648.24</td>\n",
       "      <td>5,405,900</td>\n",
       "    </tr>\n",
       "    <tr>\n",
       "      <th>2012-01-09</th>\n",
       "      <td>322.04</td>\n",
       "      <td>322.29</td>\n",
       "      <td>309.46</td>\n",
       "      <td>620.76</td>\n",
       "      <td>11,688,800</td>\n",
       "    </tr>\n",
       "  </tbody>\n",
       "</table>\n",
       "</div>"
      ],
      "text/plain": [
       "              Open    High     Low   Close      Volume\n",
       "Date                                                  \n",
       "2012-01-03  325.25  332.83  324.97  663.59   7,380,500\n",
       "2012-01-04  331.27  333.87  329.08  666.45   5,749,400\n",
       "2012-01-05  329.83  330.75  326.89  657.21   6,590,300\n",
       "2012-01-06  328.34  328.77  323.68  648.24   5,405,900\n",
       "2012-01-09  322.04  322.29  309.46  620.76  11,688,800"
      ]
     },
     "execution_count": 4,
     "metadata": {},
     "output_type": "execute_result"
    }
   ],
   "source": [
    "data_train= pd.read_csv(r\"C:\\Users\\lenovo\\Desktop\\DataSet\\Google_Stock_Price_Train.csv\", parse_dates= ['Date'], index_col= 'Date')\n",
    "data_train.head()"
   ]
  },
  {
   "cell_type": "markdown",
   "id": "4d4a0599",
   "metadata": {},
   "source": [
    "#### Test DataSet"
   ]
  },
  {
   "cell_type": "code",
   "execution_count": 5,
   "id": "3482ab82",
   "metadata": {},
   "outputs": [
    {
     "data": {
      "text/html": [
       "<div>\n",
       "<style scoped>\n",
       "    .dataframe tbody tr th:only-of-type {\n",
       "        vertical-align: middle;\n",
       "    }\n",
       "\n",
       "    .dataframe tbody tr th {\n",
       "        vertical-align: top;\n",
       "    }\n",
       "\n",
       "    .dataframe thead th {\n",
       "        text-align: right;\n",
       "    }\n",
       "</style>\n",
       "<table border=\"1\" class=\"dataframe\">\n",
       "  <thead>\n",
       "    <tr style=\"text-align: right;\">\n",
       "      <th></th>\n",
       "      <th>Open</th>\n",
       "      <th>High</th>\n",
       "      <th>Low</th>\n",
       "      <th>Close</th>\n",
       "      <th>Volume</th>\n",
       "    </tr>\n",
       "    <tr>\n",
       "      <th>Date</th>\n",
       "      <th></th>\n",
       "      <th></th>\n",
       "      <th></th>\n",
       "      <th></th>\n",
       "      <th></th>\n",
       "    </tr>\n",
       "  </thead>\n",
       "  <tbody>\n",
       "    <tr>\n",
       "      <th>2017-01-03</th>\n",
       "      <td>778.81</td>\n",
       "      <td>789.63</td>\n",
       "      <td>775.80</td>\n",
       "      <td>786.14</td>\n",
       "      <td>1,657,300</td>\n",
       "    </tr>\n",
       "    <tr>\n",
       "      <th>2017-01-04</th>\n",
       "      <td>788.36</td>\n",
       "      <td>791.34</td>\n",
       "      <td>783.16</td>\n",
       "      <td>786.90</td>\n",
       "      <td>1,073,000</td>\n",
       "    </tr>\n",
       "    <tr>\n",
       "      <th>2017-01-05</th>\n",
       "      <td>786.08</td>\n",
       "      <td>794.48</td>\n",
       "      <td>785.02</td>\n",
       "      <td>794.02</td>\n",
       "      <td>1,335,200</td>\n",
       "    </tr>\n",
       "    <tr>\n",
       "      <th>2017-01-06</th>\n",
       "      <td>795.26</td>\n",
       "      <td>807.90</td>\n",
       "      <td>792.20</td>\n",
       "      <td>806.15</td>\n",
       "      <td>1,640,200</td>\n",
       "    </tr>\n",
       "    <tr>\n",
       "      <th>2017-01-09</th>\n",
       "      <td>806.40</td>\n",
       "      <td>809.97</td>\n",
       "      <td>802.83</td>\n",
       "      <td>806.65</td>\n",
       "      <td>1,272,400</td>\n",
       "    </tr>\n",
       "  </tbody>\n",
       "</table>\n",
       "</div>"
      ],
      "text/plain": [
       "              Open    High     Low   Close     Volume\n",
       "Date                                                 \n",
       "2017-01-03  778.81  789.63  775.80  786.14  1,657,300\n",
       "2017-01-04  788.36  791.34  783.16  786.90  1,073,000\n",
       "2017-01-05  786.08  794.48  785.02  794.02  1,335,200\n",
       "2017-01-06  795.26  807.90  792.20  806.15  1,640,200\n",
       "2017-01-09  806.40  809.97  802.83  806.65  1,272,400"
      ]
     },
     "execution_count": 5,
     "metadata": {},
     "output_type": "execute_result"
    }
   ],
   "source": [
    "data_test= pd.read_csv(r\"C:\\Users\\lenovo\\Desktop\\DataSet\\Google_Stock_Price_Test.csv\", parse_dates= ['Date'], index_col= 'Date')\n",
    "data_test.head()"
   ]
  },
  {
   "cell_type": "code",
   "execution_count": 6,
   "id": "625bff3a",
   "metadata": {},
   "outputs": [
    {
     "data": {
      "text/plain": [
       "Open      0\n",
       "High      0\n",
       "Low       0\n",
       "Close     0\n",
       "Volume    0\n",
       "dtype: int64"
      ]
     },
     "execution_count": 6,
     "metadata": {},
     "output_type": "execute_result"
    }
   ],
   "source": [
    "## Firstly we will take train data as we will be working on it \n",
    "## Checking or getting the additional information about the dataSet\n",
    "## Checking the null values\n",
    "data_train.isnull().sum()"
   ]
  },
  {
   "cell_type": "code",
   "execution_count": 7,
   "id": "398356b9",
   "metadata": {},
   "outputs": [
    {
     "name": "stdout",
     "output_type": "stream",
     "text": [
      "<class 'pandas.core.frame.DataFrame'>\n",
      "DatetimeIndex: 1258 entries, 2012-01-03 to 2016-12-30\n",
      "Data columns (total 5 columns):\n",
      " #   Column  Non-Null Count  Dtype  \n",
      "---  ------  --------------  -----  \n",
      " 0   Open    1258 non-null   float64\n",
      " 1   High    1258 non-null   float64\n",
      " 2   Low     1258 non-null   float64\n",
      " 3   Close   1258 non-null   object \n",
      " 4   Volume  1258 non-null   object \n",
      "dtypes: float64(3), object(2)\n",
      "memory usage: 59.0+ KB\n"
     ]
    }
   ],
   "source": [
    "## Checking the datatypes of each column\n",
    "data_train.info()"
   ]
  },
  {
   "cell_type": "markdown",
   "id": "9712748c",
   "metadata": {},
   "source": [
    "### Converting the Close feature datatype into numeric"
   ]
  },
  {
   "cell_type": "code",
   "execution_count": 8,
   "id": "f9fd8f59",
   "metadata": {},
   "outputs": [
    {
     "name": "stdout",
     "output_type": "stream",
     "text": [
      "<class 'pandas.core.frame.DataFrame'>\n",
      "DatetimeIndex: 1258 entries, 2012-01-03 to 2016-12-30\n",
      "Data columns (total 5 columns):\n",
      " #   Column  Non-Null Count  Dtype  \n",
      "---  ------  --------------  -----  \n",
      " 0   Open    1258 non-null   float64\n",
      " 1   High    1258 non-null   float64\n",
      " 2   Low     1258 non-null   float64\n",
      " 3   Close   1258 non-null   float64\n",
      " 4   Volume  1258 non-null   object \n",
      "dtypes: float64(4), object(1)\n",
      "memory usage: 59.0+ KB\n"
     ]
    }
   ],
   "source": [
    "data_train['Close']= data_train['Close'].apply(str).str.replace(',', '')\n",
    "data_train['Close']= pd.to_numeric(data_train['Close'])\n",
    "data_train.info()"
   ]
  },
  {
   "cell_type": "markdown",
   "id": "edc41cff",
   "metadata": {},
   "source": [
    "### Creating the new dataframe with Close feature from data"
   ]
  },
  {
   "cell_type": "code",
   "execution_count": 9,
   "id": "add0339b",
   "metadata": {},
   "outputs": [
    {
     "data": {
      "text/html": [
       "<div>\n",
       "<style scoped>\n",
       "    .dataframe tbody tr th:only-of-type {\n",
       "        vertical-align: middle;\n",
       "    }\n",
       "\n",
       "    .dataframe tbody tr th {\n",
       "        vertical-align: top;\n",
       "    }\n",
       "\n",
       "    .dataframe thead th {\n",
       "        text-align: right;\n",
       "    }\n",
       "</style>\n",
       "<table border=\"1\" class=\"dataframe\">\n",
       "  <thead>\n",
       "    <tr style=\"text-align: right;\">\n",
       "      <th></th>\n",
       "      <th>Close</th>\n",
       "    </tr>\n",
       "    <tr>\n",
       "      <th>Date</th>\n",
       "      <th></th>\n",
       "    </tr>\n",
       "  </thead>\n",
       "  <tbody>\n",
       "    <tr>\n",
       "      <th>2012-01-03</th>\n",
       "      <td>663.59</td>\n",
       "    </tr>\n",
       "    <tr>\n",
       "      <th>2012-01-04</th>\n",
       "      <td>666.45</td>\n",
       "    </tr>\n",
       "    <tr>\n",
       "      <th>2012-01-05</th>\n",
       "      <td>657.21</td>\n",
       "    </tr>\n",
       "    <tr>\n",
       "      <th>2012-01-06</th>\n",
       "      <td>648.24</td>\n",
       "    </tr>\n",
       "    <tr>\n",
       "      <th>2012-01-09</th>\n",
       "      <td>620.76</td>\n",
       "    </tr>\n",
       "  </tbody>\n",
       "</table>\n",
       "</div>"
      ],
      "text/plain": [
       "             Close\n",
       "Date              \n",
       "2012-01-03  663.59\n",
       "2012-01-04  666.45\n",
       "2012-01-05  657.21\n",
       "2012-01-06  648.24\n",
       "2012-01-09  620.76"
      ]
     },
     "execution_count": 9,
     "metadata": {},
     "output_type": "execute_result"
    }
   ],
   "source": [
    "trained_data= data_train[['Close']]\n",
    "trained_data.head()"
   ]
  },
  {
   "cell_type": "markdown",
   "id": "95f3e299",
   "metadata": {},
   "source": [
    "### Plotting the new Dataframe to find out the characterstics of close feature"
   ]
  },
  {
   "cell_type": "code",
   "execution_count": 10,
   "id": "272071bf",
   "metadata": {},
   "outputs": [
    {
     "data": {
      "text/plain": [
       "<Figure size 1600x500 with 0 Axes>"
      ]
     },
     "metadata": {},
     "output_type": "display_data"
    },
    {
     "data": {
      "image/png": "[encoded data removed]",
      "text/plain": [
       "<Figure size 640x480 with 1 Axes>"
      ]
     },
     "metadata": {},
     "output_type": "display_data"
    }
   ],
   "source": [
    "## Plotting graph for close feature\n",
    "plt.figure(figsize=(16,5))\n",
    "trained_data.plot()\n",
    "plt.show()"
   ]
  },
  {
   "cell_type": "code",
   "execution_count": 11,
   "id": "61b7a1f9",
   "metadata": {},
   "outputs": [],
   "source": [
    "# train= trained_data[:round(len(trained_data)*0.80)]\n",
    "# test= trained_data[round(len(trained_data)*0.80):]"
   ]
  },
  {
   "cell_type": "code",
   "execution_count": 12,
   "id": "13b2cf96",
   "metadata": {},
   "outputs": [
    {
     "data": {
      "text/html": [
       "<div>\n",
       "<style scoped>\n",
       "    .dataframe tbody tr th:only-of-type {\n",
       "        vertical-align: middle;\n",
       "    }\n",
       "\n",
       "    .dataframe tbody tr th {\n",
       "        vertical-align: top;\n",
       "    }\n",
       "\n",
       "    .dataframe thead th {\n",
       "        text-align: right;\n",
       "    }\n",
       "</style>\n",
       "<table border=\"1\" class=\"dataframe\">\n",
       "  <thead>\n",
       "    <tr style=\"text-align: right;\">\n",
       "      <th></th>\n",
       "      <th>Close</th>\n",
       "    </tr>\n",
       "    <tr>\n",
       "      <th>Date</th>\n",
       "      <th></th>\n",
       "    </tr>\n",
       "  </thead>\n",
       "  <tbody>\n",
       "    <tr>\n",
       "      <th>2012-01-03</th>\n",
       "      <td>663.59</td>\n",
       "    </tr>\n",
       "    <tr>\n",
       "      <th>2012-01-04</th>\n",
       "      <td>666.45</td>\n",
       "    </tr>\n",
       "    <tr>\n",
       "      <th>2012-01-05</th>\n",
       "      <td>657.21</td>\n",
       "    </tr>\n",
       "    <tr>\n",
       "      <th>2012-01-06</th>\n",
       "      <td>648.24</td>\n",
       "    </tr>\n",
       "    <tr>\n",
       "      <th>2012-01-09</th>\n",
       "      <td>620.76</td>\n",
       "    </tr>\n",
       "  </tbody>\n",
       "</table>\n",
       "</div>"
      ],
      "text/plain": [
       "             Close\n",
       "Date              \n",
       "2012-01-03  663.59\n",
       "2012-01-04  666.45\n",
       "2012-01-05  657.21\n",
       "2012-01-06  648.24\n",
       "2012-01-09  620.76"
      ]
     },
     "execution_count": 12,
     "metadata": {},
     "output_type": "execute_result"
    }
   ],
   "source": [
    "trained_data.head()"
   ]
  },
  {
   "cell_type": "markdown",
   "id": "de7112ec",
   "metadata": {},
   "source": [
    "## Doing Feature Scaling"
   ]
  },
  {
   "cell_type": "code",
   "execution_count": 13,
   "id": "5a1e65df",
   "metadata": {},
   "outputs": [],
   "source": [
    "## Using the MinMax Scaler to scale the value between 0 and 1\n",
    "scaler= MinMaxScaler(feature_range=(0,1))\n",
    "stock_price= scaler.fit_transform(trained_data)"
   ]
  },
  {
   "cell_type": "code",
   "execution_count": 14,
   "id": "c5b98dc3",
   "metadata": {},
   "outputs": [
    {
     "data": {
      "text/plain": [
       "(1258, 1)"
      ]
     },
     "execution_count": 14,
     "metadata": {},
     "output_type": "execute_result"
    }
   ],
   "source": [
    "## Checking the shape of the data\n",
    "stock_price.shape"
   ]
  },
  {
   "cell_type": "markdown",
   "id": "514d06ff",
   "metadata": {},
   "source": [
    "#### Below we will be taking previous 40 days open datasteps to predict the next values \n",
    "\n",
    "#### so we are converting our train data as per our input in LTSM layers. i.e for taking 0 to 39 days open price to get 40th day price as output, 1 to 40 for 41, 2 to 41 for 42 \n",
    "\n",
    "#### Here we are doing Feature Selection"
   ]
  },
  {
   "cell_type": "code",
   "execution_count": 15,
   "id": "a68f74ad",
   "metadata": {},
   "outputs": [],
   "source": [
    "x_train= []\n",
    "y_train= []\n",
    "\n",
    "for i in range(40, len(stock_price)):\n",
    "    x_train.append(stock_price[i-40: i,0])\n",
    "    y_train.append(stock_price[i,0])\n",
    "#    print(i)"
   ]
  },
  {
   "cell_type": "code",
   "execution_count": 16,
   "id": "12fd128c",
   "metadata": {},
   "outputs": [],
   "source": [
    "# x_train"
   ]
  },
  {
   "cell_type": "code",
   "execution_count": 17,
   "id": "f4a1efd1",
   "metadata": {},
   "outputs": [],
   "source": [
    "## Taking array of both the datasets\n",
    "x_train= np.array(x_train)\n",
    "y_train= np.array(y_train)"
   ]
  },
  {
   "cell_type": "markdown",
   "id": "ef1664d6",
   "metadata": {},
   "source": [
    "#### Checking the shape after taking the timesteps"
   ]
  },
  {
   "cell_type": "code",
   "execution_count": 18,
   "id": "5fcfc34d",
   "metadata": {},
   "outputs": [
    {
     "data": {
      "text/plain": [
       "(1218, 40)"
      ]
     },
     "execution_count": 18,
     "metadata": {},
     "output_type": "execute_result"
    }
   ],
   "source": [
    "## We have taken the timesteps of 40\n",
    "x_train.shape"
   ]
  },
  {
   "cell_type": "code",
   "execution_count": 19,
   "id": "5ce2f343",
   "metadata": {},
   "outputs": [
    {
     "data": {
      "text/plain": [
       "(1218,)"
      ]
     },
     "execution_count": 19,
     "metadata": {},
     "output_type": "execute_result"
    }
   ],
   "source": [
    "y_train.shape"
   ]
  },
  {
   "cell_type": "markdown",
   "id": "abf1d084",
   "metadata": {},
   "source": [
    "#### Reshaping the input as per input given to LSTM model"
   ]
  },
  {
   "cell_type": "code",
   "execution_count": 20,
   "id": "a02e44c6",
   "metadata": {},
   "outputs": [],
   "source": [
    "x_train= x_train.reshape(x_train.shape[0], x_train.shape[1],1)"
   ]
  },
  {
   "cell_type": "markdown",
   "id": "24b1541d",
   "metadata": {},
   "source": [
    "## Building LSTM Network"
   ]
  },
  {
   "cell_type": "code",
   "execution_count": 21,
   "id": "507698a4",
   "metadata": {},
   "outputs": [],
   "source": [
    "model= Sequential()\n",
    "model.add(LSTM(units= 50, return_sequences=True, input_shape= (x_train.shape[1], 1)))\n",
    "model.add(Dropout(0.2))\n",
    "\n",
    "model.add(LSTM(units= 50, return_sequences=True,activation= 'relu'))\n",
    "model.add(Dropout(0.2))\n",
    "\n",
    "model.add(LSTM(units= 50, return_sequences=True,activation= 'relu'))\n",
    "model.add(Dropout(0.2))\n",
    "\n",
    "model.add(LSTM(units= 50))\n",
    "model.add(Dropout(0.2))\n",
    "\n",
    "model.add(Dense(units=1))\n",
    "\n",
    "model.compile(optimizer= 'adam', loss= 'mean_squared_error',metrics = ['accuracy'])"
   ]
  },
  {
   "cell_type": "code",
   "execution_count": 22,
   "id": "2e38179c",
   "metadata": {},
   "outputs": [
    {
     "name": "stdout",
     "output_type": "stream",
     "text": [
      "Epoch 1/100\n",
      "30/30 [==============================] - 19s 194ms/step - loss: 0.0421 - accuracy: 0.0021 - val_loss: 0.0053 - val_accuracy: 0.0000e+00\n",
      "Epoch 2/100\n",
      "30/30 [==============================] - 3s 113ms/step - loss: 0.0157 - accuracy: 0.0021 - val_loss: 0.0014 - val_accuracy: 0.0000e+00\n",
      "Epoch 3/100\n",
      "30/30 [==============================] - 3s 106ms/step - loss: 0.0119 - accuracy: 0.0021 - val_loss: 0.0018 - val_accuracy: 0.0000e+00\n",
      "Epoch 4/100\n",
      "30/30 [==============================] - 3s 103ms/step - loss: 0.0099 - accuracy: 0.0021 - val_loss: 0.0010 - val_accuracy: 0.0000e+00\n",
      "Epoch 5/100\n",
      "30/30 [==============================] - 3s 112ms/step - loss: 0.0089 - accuracy: 0.0021 - val_loss: 9.6523e-04 - val_accuracy: 0.0000e+00\n",
      "Epoch 6/100\n",
      "30/30 [==============================] - 3s 106ms/step - loss: 0.0083 - accuracy: 0.0021 - val_loss: 0.0010 - val_accuracy: 0.0000e+00\n",
      "Epoch 7/100\n",
      "30/30 [==============================] - 3s 110ms/step - loss: 0.0078 - accuracy: 0.0021 - val_loss: 0.0046 - val_accuracy: 0.0000e+00\n",
      "Epoch 8/100\n",
      "30/30 [==============================] - 3s 107ms/step - loss: 0.0079 - accuracy: 0.0021 - val_loss: 0.0037 - val_accuracy: 0.0000e+00\n",
      "Epoch 9/100\n",
      "30/30 [==============================] - 3s 112ms/step - loss: 0.0073 - accuracy: 0.0021 - val_loss: 9.4613e-04 - val_accuracy: 0.0000e+00\n",
      "Epoch 10/100\n",
      "30/30 [==============================] - 3s 116ms/step - loss: 0.0068 - accuracy: 0.0021 - val_loss: 8.6181e-04 - val_accuracy: 0.0000e+00\n",
      "Epoch 11/100\n",
      "30/30 [==============================] - 3s 111ms/step - loss: 0.0072 - accuracy: 0.0021 - val_loss: 9.0217e-04 - val_accuracy: 0.0000e+00\n",
      "Epoch 12/100\n",
      "30/30 [==============================] - 3s 105ms/step - loss: 0.0069 - accuracy: 0.0021 - val_loss: 0.0018 - val_accuracy: 0.0000e+00\n",
      "Epoch 13/100\n",
      "30/30 [==============================] - 3s 105ms/step - loss: 0.0057 - accuracy: 0.0021 - val_loss: 0.0011 - val_accuracy: 0.0000e+00\n",
      "Epoch 14/100\n",
      "30/30 [==============================] - 3s 116ms/step - loss: 0.0061 - accuracy: 0.0021 - val_loss: 0.0017 - val_accuracy: 0.0000e+00\n",
      "Epoch 15/100\n",
      "30/30 [==============================] - 3s 107ms/step - loss: 0.0061 - accuracy: 0.0021 - val_loss: 7.9360e-04 - val_accuracy: 0.0000e+00\n",
      "Epoch 16/100\n",
      "30/30 [==============================] - 3s 113ms/step - loss: 0.0051 - accuracy: 0.0021 - val_loss: 8.7060e-04 - val_accuracy: 0.0000e+00\n",
      "Epoch 17/100\n",
      "30/30 [==============================] - 3s 110ms/step - loss: 0.0068 - accuracy: 0.0021 - val_loss: 0.0013 - val_accuracy: 0.0000e+00\n",
      "Epoch 18/100\n",
      "30/30 [==============================] - 3s 111ms/step - loss: 0.0066 - accuracy: 0.0021 - val_loss: 8.5668e-04 - val_accuracy: 0.0000e+00\n",
      "Epoch 19/100\n",
      "30/30 [==============================] - 3s 110ms/step - loss: 0.0067 - accuracy: 0.0021 - val_loss: 0.0010 - val_accuracy: 0.0000e+00\n",
      "Epoch 20/100\n",
      "30/30 [==============================] - 3s 109ms/step - loss: 0.0062 - accuracy: 0.0021 - val_loss: 8.0398e-04 - val_accuracy: 0.0000e+00\n",
      "Epoch 21/100\n",
      "30/30 [==============================] - 3s 110ms/step - loss: 0.0059 - accuracy: 0.0021 - val_loss: 0.0031 - val_accuracy: 0.0000e+00\n",
      "Epoch 22/100\n",
      "30/30 [==============================] - 3s 112ms/step - loss: 0.0050 - accuracy: 0.0021 - val_loss: 0.0026 - val_accuracy: 0.0000e+00\n",
      "Epoch 23/100\n",
      "30/30 [==============================] - 3s 110ms/step - loss: 0.0057 - accuracy: 0.0021 - val_loss: 8.6352e-04 - val_accuracy: 0.0000e+00\n",
      "Epoch 24/100\n",
      "30/30 [==============================] - 3s 109ms/step - loss: 0.0046 - accuracy: 0.0021 - val_loss: 0.0010 - val_accuracy: 0.0000e+00\n",
      "Epoch 25/100\n",
      "30/30 [==============================] - 3s 108ms/step - loss: 0.0042 - accuracy: 0.0021 - val_loss: 0.0013 - val_accuracy: 0.0000e+00\n",
      "Epoch 26/100\n",
      "30/30 [==============================] - 3s 109ms/step - loss: 0.0054 - accuracy: 0.0021 - val_loss: 9.6122e-04 - val_accuracy: 0.0000e+00\n",
      "Epoch 27/100\n",
      "30/30 [==============================] - 3s 111ms/step - loss: 0.0048 - accuracy: 0.0021 - val_loss: 0.0011 - val_accuracy: 0.0000e+00\n",
      "Epoch 28/100\n",
      "30/30 [==============================] - 3s 95ms/step - loss: 0.0044 - accuracy: 0.0021 - val_loss: 0.0012 - val_accuracy: 0.0000e+00\n",
      "Epoch 29/100\n",
      "30/30 [==============================] - 2s 78ms/step - loss: 0.0049 - accuracy: 0.0021 - val_loss: 7.5400e-04 - val_accuracy: 0.0000e+00\n",
      "Epoch 30/100\n",
      "30/30 [==============================] - 3s 116ms/step - loss: 0.0046 - accuracy: 0.0021 - val_loss: 6.8366e-04 - val_accuracy: 0.0000e+00\n",
      "Epoch 31/100\n",
      "30/30 [==============================] - 4s 121ms/step - loss: 0.0044 - accuracy: 0.0021 - val_loss: 0.0013 - val_accuracy: 0.0000e+00\n",
      "Epoch 32/100\n",
      "30/30 [==============================] - 4s 119ms/step - loss: 0.0039 - accuracy: 0.0021 - val_loss: 7.8965e-04 - val_accuracy: 0.0000e+00\n",
      "Epoch 33/100\n",
      "30/30 [==============================] - 4s 122ms/step - loss: 0.0038 - accuracy: 0.0021 - val_loss: 5.8832e-04 - val_accuracy: 0.0000e+00\n",
      "Epoch 34/100\n",
      "30/30 [==============================] - 4s 122ms/step - loss: 0.0041 - accuracy: 0.0021 - val_loss: 0.0014 - val_accuracy: 0.0000e+00\n",
      "Epoch 35/100\n",
      "30/30 [==============================] - 4s 119ms/step - loss: 0.0047 - accuracy: 0.0021 - val_loss: 0.0012 - val_accuracy: 0.0000e+00\n",
      "Epoch 36/100\n",
      "30/30 [==============================] - 3s 115ms/step - loss: 0.0041 - accuracy: 0.0021 - val_loss: 8.5601e-04 - val_accuracy: 0.0000e+00\n",
      "Epoch 37/100\n",
      "30/30 [==============================] - 3s 112ms/step - loss: 0.0044 - accuracy: 0.0021 - val_loss: 5.9292e-04 - val_accuracy: 0.0000e+00\n",
      "Epoch 38/100\n",
      "30/30 [==============================] - 3s 108ms/step - loss: 0.0034 - accuracy: 0.0021 - val_loss: 5.5493e-04 - val_accuracy: 0.0000e+00\n",
      "Epoch 39/100\n",
      "30/30 [==============================] - 4s 131ms/step - loss: 0.0034 - accuracy: 0.0021 - val_loss: 6.4359e-04 - val_accuracy: 0.0000e+00\n",
      "Epoch 40/100\n",
      "30/30 [==============================] - 3s 109ms/step - loss: 0.0031 - accuracy: 0.0021 - val_loss: 5.5061e-04 - val_accuracy: 0.0000e+00\n",
      "Epoch 41/100\n",
      "30/30 [==============================] - 3s 108ms/step - loss: 0.0031 - accuracy: 0.0021 - val_loss: 6.2330e-04 - val_accuracy: 0.0000e+00\n",
      "Epoch 42/100\n",
      "30/30 [==============================] - 2s 60ms/step - loss: 0.0039 - accuracy: 0.0021 - val_loss: 0.0023 - val_accuracy: 0.0000e+00\n",
      "Epoch 43/100\n",
      "30/30 [==============================] - 2s 52ms/step - loss: 0.0035 - accuracy: 0.0021 - val_loss: 5.6459e-04 - val_accuracy: 0.0000e+00\n",
      "Epoch 44/100\n",
      "30/30 [==============================] - 2s 52ms/step - loss: 0.0034 - accuracy: 0.0021 - val_loss: 6.5880e-04 - val_accuracy: 0.0000e+00\n",
      "Epoch 45/100\n",
      "30/30 [==============================] - 2s 51ms/step - loss: 0.0037 - accuracy: 0.0021 - val_loss: 0.0016 - val_accuracy: 0.0000e+00\n",
      "Epoch 46/100\n",
      "30/30 [==============================] - 2s 52ms/step - loss: 0.0028 - accuracy: 0.0021 - val_loss: 9.0532e-04 - val_accuracy: 0.0000e+00\n",
      "Epoch 47/100\n",
      "30/30 [==============================] - 2s 52ms/step - loss: 0.0035 - accuracy: 0.0021 - val_loss: 8.5558e-04 - val_accuracy: 0.0000e+00\n",
      "Epoch 48/100\n",
      "30/30 [==============================] - 2s 51ms/step - loss: 0.0038 - accuracy: 0.0021 - val_loss: 5.2412e-04 - val_accuracy: 0.0000e+00\n",
      "Epoch 49/100\n",
      "30/30 [==============================] - 2s 52ms/step - loss: 0.0033 - accuracy: 0.0021 - val_loss: 0.0010 - val_accuracy: 0.0000e+00\n",
      "Epoch 50/100\n",
      "30/30 [==============================] - 2s 54ms/step - loss: 0.0038 - accuracy: 0.0021 - val_loss: 9.1950e-04 - val_accuracy: 0.0000e+00\n",
      "Epoch 51/100\n",
      "30/30 [==============================] - 2s 52ms/step - loss: 0.0030 - accuracy: 0.0021 - val_loss: 0.0013 - val_accuracy: 0.0000e+00\n",
      "Epoch 52/100\n",
      "30/30 [==============================] - 1s 50ms/step - loss: 0.0031 - accuracy: 0.0021 - val_loss: 4.9744e-04 - val_accuracy: 0.0000e+00\n",
      "Epoch 53/100\n",
      "30/30 [==============================] - 2s 51ms/step - loss: 0.0027 - accuracy: 0.0021 - val_loss: 7.1109e-04 - val_accuracy: 0.0000e+00\n",
      "Epoch 54/100\n",
      "30/30 [==============================] - 2s 51ms/step - loss: 0.0044 - accuracy: 0.0021 - val_loss: 5.1086e-04 - val_accuracy: 0.0000e+00\n",
      "Epoch 55/100\n",
      "30/30 [==============================] - 2s 51ms/step - loss: 0.0031 - accuracy: 0.0021 - val_loss: 7.3084e-04 - val_accuracy: 0.0000e+00\n"
     ]
    },
    {
     "name": "stdout",
     "output_type": "stream",
     "text": [
      "Epoch 56/100\n",
      "30/30 [==============================] - 1s 50ms/step - loss: 0.0029 - accuracy: 0.0021 - val_loss: 7.5196e-04 - val_accuracy: 0.0000e+00\n",
      "Epoch 57/100\n",
      "30/30 [==============================] - 2s 60ms/step - loss: 0.0024 - accuracy: 0.0021 - val_loss: 6.4279e-04 - val_accuracy: 0.0000e+00\n",
      "Epoch 58/100\n",
      "30/30 [==============================] - 2s 63ms/step - loss: 0.0030 - accuracy: 0.0021 - val_loss: 0.0011 - val_accuracy: 0.0000e+00\n",
      "Epoch 59/100\n",
      "30/30 [==============================] - 2s 60ms/step - loss: 0.0031 - accuracy: 0.0021 - val_loss: 7.6266e-04 - val_accuracy: 0.0000e+00\n",
      "Epoch 60/100\n",
      "30/30 [==============================] - 2s 61ms/step - loss: 0.0027 - accuracy: 0.0021 - val_loss: 7.4484e-04 - val_accuracy: 0.0000e+00\n",
      "Epoch 61/100\n",
      "30/30 [==============================] - 2s 62ms/step - loss: 0.0029 - accuracy: 0.0021 - val_loss: 4.8622e-04 - val_accuracy: 0.0000e+00\n",
      "Epoch 62/100\n",
      "30/30 [==============================] - 2s 66ms/step - loss: 0.0031 - accuracy: 0.0021 - val_loss: 7.9425e-04 - val_accuracy: 0.0000e+00\n",
      "Epoch 63/100\n",
      "30/30 [==============================] - 2s 65ms/step - loss: 0.0028 - accuracy: 0.0021 - val_loss: 6.9581e-04 - val_accuracy: 0.0000e+00\n",
      "Epoch 64/100\n",
      "30/30 [==============================] - 2s 66ms/step - loss: 0.0023 - accuracy: 0.0021 - val_loss: 5.5498e-04 - val_accuracy: 0.0000e+00\n",
      "Epoch 65/100\n",
      "30/30 [==============================] - 2s 66ms/step - loss: 0.0027 - accuracy: 0.0021 - val_loss: 4.4403e-04 - val_accuracy: 0.0000e+00\n",
      "Epoch 66/100\n",
      "30/30 [==============================] - 2s 63ms/step - loss: 0.0024 - accuracy: 0.0021 - val_loss: 4.0566e-04 - val_accuracy: 0.0000e+00\n",
      "Epoch 67/100\n",
      "30/30 [==============================] - 2s 64ms/step - loss: 0.0029 - accuracy: 0.0021 - val_loss: 5.8609e-04 - val_accuracy: 0.0000e+00\n",
      "Epoch 68/100\n",
      "30/30 [==============================] - 2s 63ms/step - loss: 0.0028 - accuracy: 0.0021 - val_loss: 5.3724e-04 - val_accuracy: 0.0000e+00\n",
      "Epoch 69/100\n",
      "30/30 [==============================] - 2s 65ms/step - loss: 0.0025 - accuracy: 0.0021 - val_loss: 5.7661e-04 - val_accuracy: 0.0000e+00\n",
      "Epoch 70/100\n",
      "30/30 [==============================] - 2s 65ms/step - loss: 0.0030 - accuracy: 0.0021 - val_loss: 4.5863e-04 - val_accuracy: 0.0000e+00\n",
      "Epoch 71/100\n",
      "30/30 [==============================] - 2s 67ms/step - loss: 0.0026 - accuracy: 0.0021 - val_loss: 0.0012 - val_accuracy: 0.0000e+00\n",
      "Epoch 72/100\n",
      "30/30 [==============================] - 2s 64ms/step - loss: 0.0029 - accuracy: 0.0021 - val_loss: 0.0019 - val_accuracy: 0.0000e+00\n",
      "Epoch 73/100\n",
      "30/30 [==============================] - 2s 66ms/step - loss: 0.0030 - accuracy: 0.0021 - val_loss: 8.8414e-04 - val_accuracy: 0.0000e+00\n",
      "Epoch 74/100\n",
      "30/30 [==============================] - 3s 92ms/step - loss: 0.0027 - accuracy: 0.0021 - val_loss: 9.0211e-04 - val_accuracy: 0.0000e+00\n",
      "Epoch 75/100\n",
      "30/30 [==============================] - 3s 89ms/step - loss: 0.0028 - accuracy: 0.0021 - val_loss: 0.0015 - val_accuracy: 0.0000e+00\n",
      "Epoch 76/100\n",
      "30/30 [==============================] - 2s 71ms/step - loss: 0.0025 - accuracy: 0.0021 - val_loss: 5.3398e-04 - val_accuracy: 0.0000e+00\n",
      "Epoch 77/100\n",
      "30/30 [==============================] - 2s 71ms/step - loss: 0.0027 - accuracy: 0.0021 - val_loss: 6.3257e-04 - val_accuracy: 0.0000e+00\n",
      "Epoch 78/100\n",
      "30/30 [==============================] - 2s 72ms/step - loss: 0.0028 - accuracy: 0.0021 - val_loss: 9.6134e-04 - val_accuracy: 0.0000e+00\n",
      "Epoch 79/100\n",
      "30/30 [==============================] - 2s 75ms/step - loss: 0.0030 - accuracy: 0.0021 - val_loss: 4.3072e-04 - val_accuracy: 0.0000e+00\n",
      "Epoch 80/100\n",
      "30/30 [==============================] - 2s 69ms/step - loss: 0.0024 - accuracy: 0.0021 - val_loss: 5.0760e-04 - val_accuracy: 0.0000e+00\n",
      "Epoch 81/100\n",
      "30/30 [==============================] - 2s 63ms/step - loss: 0.0025 - accuracy: 0.0021 - val_loss: 8.5905e-04 - val_accuracy: 0.0000e+00\n",
      "Epoch 82/100\n",
      "30/30 [==============================] - 2s 63ms/step - loss: 0.0023 - accuracy: 0.0021 - val_loss: 5.3665e-04 - val_accuracy: 0.0000e+00\n",
      "Epoch 83/100\n",
      "30/30 [==============================] - 2s 64ms/step - loss: 0.0024 - accuracy: 0.0021 - val_loss: 4.2796e-04 - val_accuracy: 0.0000e+00\n",
      "Epoch 84/100\n",
      "30/30 [==============================] - 2s 64ms/step - loss: 0.0020 - accuracy: 0.0021 - val_loss: 3.8064e-04 - val_accuracy: 0.0000e+00\n",
      "Epoch 85/100\n",
      "30/30 [==============================] - 2s 66ms/step - loss: 0.0024 - accuracy: 0.0021 - val_loss: 4.0769e-04 - val_accuracy: 0.0000e+00\n",
      "Epoch 86/100\n",
      "30/30 [==============================] - 2s 65ms/step - loss: 0.0027 - accuracy: 0.0021 - val_loss: 4.9241e-04 - val_accuracy: 0.0000e+00\n",
      "Epoch 87/100\n",
      "30/30 [==============================] - 2s 64ms/step - loss: 0.0027 - accuracy: 0.0021 - val_loss: 7.3850e-04 - val_accuracy: 0.0000e+00\n",
      "Epoch 88/100\n",
      "30/30 [==============================] - 2s 64ms/step - loss: 0.0025 - accuracy: 0.0021 - val_loss: 4.0142e-04 - val_accuracy: 0.0000e+00\n",
      "Epoch 89/100\n",
      "30/30 [==============================] - 2s 63ms/step - loss: 0.0021 - accuracy: 0.0021 - val_loss: 6.3037e-04 - val_accuracy: 0.0000e+00\n",
      "Epoch 90/100\n",
      "30/30 [==============================] - 2s 64ms/step - loss: 0.0026 - accuracy: 0.0021 - val_loss: 7.0326e-04 - val_accuracy: 0.0000e+00\n",
      "Epoch 91/100\n",
      "30/30 [==============================] - 2s 65ms/step - loss: 0.0027 - accuracy: 0.0021 - val_loss: 4.1341e-04 - val_accuracy: 0.0000e+00\n",
      "Epoch 92/100\n",
      "30/30 [==============================] - 2s 63ms/step - loss: 0.0022 - accuracy: 0.0021 - val_loss: 4.0606e-04 - val_accuracy: 0.0000e+00\n",
      "Epoch 93/100\n",
      "30/30 [==============================] - 2s 69ms/step - loss: 0.0024 - accuracy: 0.0021 - val_loss: 9.2821e-04 - val_accuracy: 0.0000e+00\n",
      "Epoch 94/100\n",
      "30/30 [==============================] - 2s 65ms/step - loss: 0.0023 - accuracy: 0.0021 - val_loss: 4.3354e-04 - val_accuracy: 0.0000e+00\n",
      "Epoch 95/100\n",
      "30/30 [==============================] - 2s 65ms/step - loss: 0.0023 - accuracy: 0.0021 - val_loss: 4.0778e-04 - val_accuracy: 0.0000e+00\n",
      "Epoch 96/100\n",
      "30/30 [==============================] - 2s 66ms/step - loss: 0.0022 - accuracy: 0.0021 - val_loss: 3.6426e-04 - val_accuracy: 0.0000e+00\n",
      "Epoch 97/100\n",
      "30/30 [==============================] - 2s 73ms/step - loss: 0.0025 - accuracy: 0.0021 - val_loss: 3.8481e-04 - val_accuracy: 0.0000e+00\n",
      "Epoch 98/100\n",
      "30/30 [==============================] - 2s 64ms/step - loss: 0.0023 - accuracy: 0.0021 - val_loss: 0.0015 - val_accuracy: 0.0000e+00\n",
      "Epoch 99/100\n",
      "30/30 [==============================] - 2s 64ms/step - loss: 0.0024 - accuracy: 0.0021 - val_loss: 3.8835e-04 - val_accuracy: 0.0000e+00\n",
      "Epoch 100/100\n",
      "30/30 [==============================] - 2s 65ms/step - loss: 0.0024 - accuracy: 0.0021 - val_loss: 4.2046e-04 - val_accuracy: 0.0000e+00\n"
     ]
    }
   ],
   "source": [
    "history= model.fit(x_train, y_train, epochs= 100, validation_split= 0.22)"
   ]
  },
  {
   "cell_type": "markdown",
   "id": "2e0a5171",
   "metadata": {},
   "source": [
    "#### As their is much difference inTraining Accuracy & Validation Accuracy it can be said that their is overfitting condition in data"
   ]
  },
  {
   "cell_type": "markdown",
   "id": "4dd813c5",
   "metadata": {},
   "source": [
    "### It can be seen that their is overfitting the reason behind it could be The training data size is too small and does not contain enough data samples ton correctly represent all possible input data values."
   ]
  },
  {
   "cell_type": "markdown",
   "id": "3d579ca3",
   "metadata": {},
   "source": [
    "##### Analysing Test Data"
   ]
  },
  {
   "cell_type": "markdown",
   "id": "8ec32ff1",
   "metadata": {},
   "source": [
    "#### As we have 40 input in our layer, we will concatenate our train and test and will take last 40 values of our training set with test set"
   ]
  },
  {
   "cell_type": "code",
   "execution_count": 23,
   "id": "9e5b3d51",
   "metadata": {},
   "outputs": [
    {
     "data": {
      "text/html": [
       "<div>\n",
       "<style scoped>\n",
       "    .dataframe tbody tr th:only-of-type {\n",
       "        vertical-align: middle;\n",
       "    }\n",
       "\n",
       "    .dataframe tbody tr th {\n",
       "        vertical-align: top;\n",
       "    }\n",
       "\n",
       "    .dataframe thead th {\n",
       "        text-align: right;\n",
       "    }\n",
       "</style>\n",
       "<table border=\"1\" class=\"dataframe\">\n",
       "  <thead>\n",
       "    <tr style=\"text-align: right;\">\n",
       "      <th></th>\n",
       "      <th>Open</th>\n",
       "      <th>High</th>\n",
       "      <th>Low</th>\n",
       "      <th>Close</th>\n",
       "      <th>Volume</th>\n",
       "    </tr>\n",
       "    <tr>\n",
       "      <th>Date</th>\n",
       "      <th></th>\n",
       "      <th></th>\n",
       "      <th></th>\n",
       "      <th></th>\n",
       "      <th></th>\n",
       "    </tr>\n",
       "  </thead>\n",
       "  <tbody>\n",
       "    <tr>\n",
       "      <th>2017-01-03</th>\n",
       "      <td>778.81</td>\n",
       "      <td>789.63</td>\n",
       "      <td>775.80</td>\n",
       "      <td>786.14</td>\n",
       "      <td>1,657,300</td>\n",
       "    </tr>\n",
       "    <tr>\n",
       "      <th>2017-01-04</th>\n",
       "      <td>788.36</td>\n",
       "      <td>791.34</td>\n",
       "      <td>783.16</td>\n",
       "      <td>786.90</td>\n",
       "      <td>1,073,000</td>\n",
       "    </tr>\n",
       "    <tr>\n",
       "      <th>2017-01-05</th>\n",
       "      <td>786.08</td>\n",
       "      <td>794.48</td>\n",
       "      <td>785.02</td>\n",
       "      <td>794.02</td>\n",
       "      <td>1,335,200</td>\n",
       "    </tr>\n",
       "    <tr>\n",
       "      <th>2017-01-06</th>\n",
       "      <td>795.26</td>\n",
       "      <td>807.90</td>\n",
       "      <td>792.20</td>\n",
       "      <td>806.15</td>\n",
       "      <td>1,640,200</td>\n",
       "    </tr>\n",
       "    <tr>\n",
       "      <th>2017-01-09</th>\n",
       "      <td>806.40</td>\n",
       "      <td>809.97</td>\n",
       "      <td>802.83</td>\n",
       "      <td>806.65</td>\n",
       "      <td>1,272,400</td>\n",
       "    </tr>\n",
       "  </tbody>\n",
       "</table>\n",
       "</div>"
      ],
      "text/plain": [
       "              Open    High     Low   Close     Volume\n",
       "Date                                                 \n",
       "2017-01-03  778.81  789.63  775.80  786.14  1,657,300\n",
       "2017-01-04  788.36  791.34  783.16  786.90  1,073,000\n",
       "2017-01-05  786.08  794.48  785.02  794.02  1,335,200\n",
       "2017-01-06  795.26  807.90  792.20  806.15  1,640,200\n",
       "2017-01-09  806.40  809.97  802.83  806.65  1,272,400"
      ]
     },
     "execution_count": 23,
     "metadata": {},
     "output_type": "execute_result"
    }
   ],
   "source": [
    "## Checkingbthe test data\n",
    "data_test.head()"
   ]
  },
  {
   "cell_type": "code",
   "execution_count": 24,
   "id": "f5a9a7aa",
   "metadata": {},
   "outputs": [
    {
     "name": "stdout",
     "output_type": "stream",
     "text": [
      "<class 'pandas.core.frame.DataFrame'>\n",
      "DatetimeIndex: 20 entries, 2017-01-03 to 2017-01-31\n",
      "Data columns (total 5 columns):\n",
      " #   Column  Non-Null Count  Dtype  \n",
      "---  ------  --------------  -----  \n",
      " 0   Open    20 non-null     float64\n",
      " 1   High    20 non-null     float64\n",
      " 2   Low     20 non-null     float64\n",
      " 3   Close   20 non-null     float64\n",
      " 4   Volume  20 non-null     object \n",
      "dtypes: float64(4), object(1)\n",
      "memory usage: 960.0+ bytes\n"
     ]
    }
   ],
   "source": [
    "##vChecking the info of data i.e. datatype\n",
    "data_test.info()"
   ]
  },
  {
   "cell_type": "code",
   "execution_count": 25,
   "id": "ed4feece",
   "metadata": {},
   "outputs": [
    {
     "data": {
      "text/plain": [
       "(20, 5)"
      ]
     },
     "execution_count": 25,
     "metadata": {},
     "output_type": "execute_result"
    }
   ],
   "source": [
    "## Checking the shape of Test DataSet\n",
    "data_test.shape"
   ]
  },
  {
   "cell_type": "markdown",
   "id": "fcb303b2",
   "metadata": {},
   "source": [
    "## Taking Closing Price of Stocks"
   ]
  },
  {
   "cell_type": "code",
   "execution_count": 26,
   "id": "482419ef",
   "metadata": {},
   "outputs": [
    {
     "data": {
      "text/html": [
       "<div>\n",
       "<style scoped>\n",
       "    .dataframe tbody tr th:only-of-type {\n",
       "        vertical-align: middle;\n",
       "    }\n",
       "\n",
       "    .dataframe tbody tr th {\n",
       "        vertical-align: top;\n",
       "    }\n",
       "\n",
       "    .dataframe thead th {\n",
       "        text-align: right;\n",
       "    }\n",
       "</style>\n",
       "<table border=\"1\" class=\"dataframe\">\n",
       "  <thead>\n",
       "    <tr style=\"text-align: right;\">\n",
       "      <th></th>\n",
       "      <th>Close</th>\n",
       "    </tr>\n",
       "    <tr>\n",
       "      <th>Date</th>\n",
       "      <th></th>\n",
       "    </tr>\n",
       "  </thead>\n",
       "  <tbody>\n",
       "    <tr>\n",
       "      <th>2017-01-03</th>\n",
       "      <td>786.14</td>\n",
       "    </tr>\n",
       "    <tr>\n",
       "      <th>2017-01-04</th>\n",
       "      <td>786.90</td>\n",
       "    </tr>\n",
       "    <tr>\n",
       "      <th>2017-01-05</th>\n",
       "      <td>794.02</td>\n",
       "    </tr>\n",
       "    <tr>\n",
       "      <th>2017-01-06</th>\n",
       "      <td>806.15</td>\n",
       "    </tr>\n",
       "    <tr>\n",
       "      <th>2017-01-09</th>\n",
       "      <td>806.65</td>\n",
       "    </tr>\n",
       "  </tbody>\n",
       "</table>\n",
       "</div>"
      ],
      "text/plain": [
       "             Close\n",
       "Date              \n",
       "2017-01-03  786.14\n",
       "2017-01-04  786.90\n",
       "2017-01-05  794.02\n",
       "2017-01-06  806.15\n",
       "2017-01-09  806.65"
      ]
     },
     "execution_count": 26,
     "metadata": {},
     "output_type": "execute_result"
    }
   ],
   "source": [
    "data_test= data_test[['Close']]\n",
    "data_test.head()"
   ]
  },
  {
   "cell_type": "markdown",
   "id": "9a79bdd2",
   "metadata": {},
   "source": [
    "#### Plotting the Closing Price"
   ]
  },
  {
   "cell_type": "code",
   "execution_count": 27,
   "id": "eccbb49f",
   "metadata": {},
   "outputs": [
    {
     "data": {
      "text/plain": [
       "<AxesSubplot:xlabel='Date'>"
      ]
     },
     "execution_count": 27,
     "metadata": {},
     "output_type": "execute_result"
    },
    {
     "data": {
      "image/png": "[encoded data removed]",
      "text/plain": [
       "<Figure size 640x480 with 1 Axes>"
      ]
     },
     "metadata": {},
     "output_type": "display_data"
    }
   ],
   "source": [
    "## Graph for closeing feature\n",
    "data_test.plot()"
   ]
  },
  {
   "cell_type": "markdown",
   "id": "b100370d",
   "metadata": {},
   "source": [
    "#### Concating train and test and then will take last 40 train point"
   ]
  },
  {
   "cell_type": "code",
   "execution_count": 28,
   "id": "2cbfe95e",
   "metadata": {},
   "outputs": [
    {
     "data": {
      "text/plain": [
       "(1278,)"
      ]
     },
     "execution_count": 28,
     "metadata": {},
     "output_type": "execute_result"
    }
   ],
   "source": [
    "total= pd.concat([trained_data['Close'], data_test['Close']], axis= 0)\n",
    "total.shape"
   ]
  },
  {
   "cell_type": "code",
   "execution_count": 29,
   "id": "1888d884",
   "metadata": {},
   "outputs": [
    {
     "data": {
      "text/plain": [
       "array([762.13, 762.02, 782.52, 790.51, 785.31, 762.56, 754.02, 736.08,\n",
       "       758.49, 764.48, 771.23, 760.54, 769.2 , 768.27, 760.99, 761.68,\n",
       "       768.24, 770.84, 758.04, 747.92, 750.5 , 762.52, 759.11, 771.19,\n",
       "       776.42, 789.29, 789.27, 796.1 , 797.07, 797.85, 790.8 , 794.2 ,\n",
       "       796.42, 794.56, 791.26, 789.91, 791.55, 785.05, 782.79, 771.82,\n",
       "       786.14, 786.9 , 794.02, 806.15, 806.65, 804.79, 807.91, 806.36,\n",
       "       807.88, 804.61, 806.07, 802.17, 805.02, 819.31, 823.87, 835.67,\n",
       "       832.15, 823.31, 802.32, 796.79])"
      ]
     },
     "execution_count": 29,
     "metadata": {},
     "output_type": "execute_result"
    }
   ],
   "source": [
    "## Creating new dataframe\n",
    "data_test1= total[len(total)- len(data_test)-40:].values\n",
    "data_test1"
   ]
  },
  {
   "cell_type": "code",
   "execution_count": 30,
   "id": "dd68a7d7",
   "metadata": {},
   "outputs": [
    {
     "data": {
      "text/plain": [
       "array([736.08])"
      ]
     },
     "execution_count": 30,
     "metadata": {},
     "output_type": "execute_result"
    }
   ],
   "source": [
    "## reshaping it to get it transformed\n",
    "data_test1= data_test1.reshape(-1,1)\n",
    "data_test1[7]"
   ]
  },
  {
   "cell_type": "code",
   "execution_count": 31,
   "id": "62a8ed52",
   "metadata": {},
   "outputs": [
    {
     "data": {
      "text/plain": [
       "835.67"
      ]
     },
     "execution_count": 31,
     "metadata": {},
     "output_type": "execute_result"
    }
   ],
   "source": [
    "## Checking the max value\n",
    "data_test1.max()"
   ]
  },
  {
   "cell_type": "code",
   "execution_count": 32,
   "id": "2a343ce5",
   "metadata": {},
   "outputs": [
    {
     "data": {
      "text/plain": [
       "array([[0.26157245],\n",
       "       [0.26046792],\n",
       "       [0.46631188],\n",
       "       [0.54654082],\n",
       "       [0.49432674],\n",
       "       [0.26589015],\n",
       "       [0.18013857],\n",
       "       [0.        ],\n",
       "       [0.22502259],\n",
       "       [0.28516919],\n",
       "       [0.35294708],\n",
       "       [0.24560699],\n",
       "       [0.33256351],\n",
       "       [0.32322522],\n",
       "       [0.25012551],\n",
       "       [0.25705392],\n",
       "       [0.32292399],\n",
       "       [0.34903103],\n",
       "       [0.22050407],\n",
       "       [0.11888744],\n",
       "       [0.14479365],\n",
       "       [0.2654885 ],\n",
       "       [0.23124812],\n",
       "       [0.35254544],\n",
       "       [0.40506075],\n",
       "       [0.53429059],\n",
       "       [0.53408977],\n",
       "       [0.60267095],\n",
       "       [0.61241088],\n",
       "       [0.620243  ],\n",
       "       [0.54945276],\n",
       "       [0.58359273],\n",
       "       [0.60588412],\n",
       "       [0.58720755],\n",
       "       [0.55407169],\n",
       "       [0.54051612],\n",
       "       [0.55698363],\n",
       "       [0.49171604],\n",
       "       [0.46902299],\n",
       "       [0.35887137],\n",
       "       [0.50266091],\n",
       "       [0.5102922 ],\n",
       "       [0.58178532],\n",
       "       [0.7035847 ],\n",
       "       [0.70860528],\n",
       "       [0.68992871],\n",
       "       [0.72125715],\n",
       "       [0.70569334],\n",
       "       [0.72095592],\n",
       "       [0.6881213 ],\n",
       "       [0.7027814 ],\n",
       "       [0.66362085],\n",
       "       [0.69223818],\n",
       "       [0.83572648],\n",
       "       [0.88151421],\n",
       "       [1.        ],\n",
       "       [0.96465509],\n",
       "       [0.87589115],\n",
       "       [0.66512702],\n",
       "       [0.60959936]])"
      ]
     },
     "execution_count": 32,
     "metadata": {},
     "output_type": "execute_result"
    }
   ],
   "source": [
    "## Fitting the data\n",
    "test_input= scaler.fit_transform(data_test1)\n",
    "test_input"
   ]
  },
  {
   "cell_type": "code",
   "execution_count": 33,
   "id": "01c51110",
   "metadata": {},
   "outputs": [
    {
     "data": {
      "text/plain": [
       "1.0"
      ]
     },
     "execution_count": 33,
     "metadata": {},
     "output_type": "execute_result"
    }
   ],
   "source": [
    "test_input.max()"
   ]
  },
  {
   "cell_type": "markdown",
   "id": "76436adf",
   "metadata": {},
   "source": [
    "### Creating the input for LSTM Prediction"
   ]
  },
  {
   "cell_type": "code",
   "execution_count": 34,
   "id": "e6e11d75",
   "metadata": {},
   "outputs": [],
   "source": [
    "x_test= []\n",
    "for i in range(40,60):\n",
    "  x_test.append(test_input[i-40:i, 0])"
   ]
  },
  {
   "cell_type": "code",
   "execution_count": 35,
   "id": "158d6ecc",
   "metadata": {},
   "outputs": [],
   "source": [
    "x_test= np.array(x_test)"
   ]
  },
  {
   "cell_type": "markdown",
   "id": "0867da70",
   "metadata": {},
   "source": [
    "### Reshaping the input for LSTM prediction"
   ]
  },
  {
   "cell_type": "code",
   "execution_count": 36,
   "id": "81c23a8e",
   "metadata": {},
   "outputs": [
    {
     "data": {
      "text/plain": [
       "array([[[0.26157245],\n",
       "        [0.26046792],\n",
       "        [0.46631188],\n",
       "        [0.54654082],\n",
       "        [0.49432674],\n",
       "        [0.26589015],\n",
       "        [0.18013857],\n",
       "        [0.        ],\n",
       "        [0.22502259],\n",
       "        [0.28516919],\n",
       "        [0.35294708],\n",
       "        [0.24560699],\n",
       "        [0.33256351],\n",
       "        [0.32322522],\n",
       "        [0.25012551],\n",
       "        [0.25705392],\n",
       "        [0.32292399],\n",
       "        [0.34903103],\n",
       "        [0.22050407],\n",
       "        [0.11888744],\n",
       "        [0.14479365],\n",
       "        [0.2654885 ],\n",
       "        [0.23124812],\n",
       "        [0.35254544],\n",
       "        [0.40506075],\n",
       "        [0.53429059],\n",
       "        [0.53408977],\n",
       "        [0.60267095],\n",
       "        [0.61241088],\n",
       "        [0.620243  ],\n",
       "        [0.54945276],\n",
       "        [0.58359273],\n",
       "        [0.60588412],\n",
       "        [0.58720755],\n",
       "        [0.55407169],\n",
       "        [0.54051612],\n",
       "        [0.55698363],\n",
       "        [0.49171604],\n",
       "        [0.46902299],\n",
       "        [0.35887137]],\n",
       "\n",
       "       [[0.26046792],\n",
       "        [0.46631188],\n",
       "        [0.54654082],\n",
       "        [0.49432674],\n",
       "        [0.26589015],\n",
       "        [0.18013857],\n",
       "        [0.        ],\n",
       "        [0.22502259],\n",
       "        [0.28516919],\n",
       "        [0.35294708],\n",
       "        [0.24560699],\n",
       "        [0.33256351],\n",
       "        [0.32322522],\n",
       "        [0.25012551],\n",
       "        [0.25705392],\n",
       "        [0.32292399],\n",
       "        [0.34903103],\n",
       "        [0.22050407],\n",
       "        [0.11888744],\n",
       "        [0.14479365],\n",
       "        [0.2654885 ],\n",
       "        [0.23124812],\n",
       "        [0.35254544],\n",
       "        [0.40506075],\n",
       "        [0.53429059],\n",
       "        [0.53408977],\n",
       "        [0.60267095],\n",
       "        [0.61241088],\n",
       "        [0.620243  ],\n",
       "        [0.54945276],\n",
       "        [0.58359273],\n",
       "        [0.60588412],\n",
       "        [0.58720755],\n",
       "        [0.55407169],\n",
       "        [0.54051612],\n",
       "        [0.55698363],\n",
       "        [0.49171604],\n",
       "        [0.46902299],\n",
       "        [0.35887137],\n",
       "        [0.50266091]],\n",
       "\n",
       "       [[0.46631188],\n",
       "        [0.54654082],\n",
       "        [0.49432674],\n",
       "        [0.26589015],\n",
       "        [0.18013857],\n",
       "        [0.        ],\n",
       "        [0.22502259],\n",
       "        [0.28516919],\n",
       "        [0.35294708],\n",
       "        [0.24560699],\n",
       "        [0.33256351],\n",
       "        [0.32322522],\n",
       "        [0.25012551],\n",
       "        [0.25705392],\n",
       "        [0.32292399],\n",
       "        [0.34903103],\n",
       "        [0.22050407],\n",
       "        [0.11888744],\n",
       "        [0.14479365],\n",
       "        [0.2654885 ],\n",
       "        [0.23124812],\n",
       "        [0.35254544],\n",
       "        [0.40506075],\n",
       "        [0.53429059],\n",
       "        [0.53408977],\n",
       "        [0.60267095],\n",
       "        [0.61241088],\n",
       "        [0.620243  ],\n",
       "        [0.54945276],\n",
       "        [0.58359273],\n",
       "        [0.60588412],\n",
       "        [0.58720755],\n",
       "        [0.55407169],\n",
       "        [0.54051612],\n",
       "        [0.55698363],\n",
       "        [0.49171604],\n",
       "        [0.46902299],\n",
       "        [0.35887137],\n",
       "        [0.50266091],\n",
       "        [0.5102922 ]],\n",
       "\n",
       "       [[0.54654082],\n",
       "        [0.49432674],\n",
       "        [0.26589015],\n",
       "        [0.18013857],\n",
       "        [0.        ],\n",
       "        [0.22502259],\n",
       "        [0.28516919],\n",
       "        [0.35294708],\n",
       "        [0.24560699],\n",
       "        [0.33256351],\n",
       "        [0.32322522],\n",
       "        [0.25012551],\n",
       "        [0.25705392],\n",
       "        [0.32292399],\n",
       "        [0.34903103],\n",
       "        [0.22050407],\n",
       "        [0.11888744],\n",
       "        [0.14479365],\n",
       "        [0.2654885 ],\n",
       "        [0.23124812],\n",
       "        [0.35254544],\n",
       "        [0.40506075],\n",
       "        [0.53429059],\n",
       "        [0.53408977],\n",
       "        [0.60267095],\n",
       "        [0.61241088],\n",
       "        [0.620243  ],\n",
       "        [0.54945276],\n",
       "        [0.58359273],\n",
       "        [0.60588412],\n",
       "        [0.58720755],\n",
       "        [0.55407169],\n",
       "        [0.54051612],\n",
       "        [0.55698363],\n",
       "        [0.49171604],\n",
       "        [0.46902299],\n",
       "        [0.35887137],\n",
       "        [0.50266091],\n",
       "        [0.5102922 ],\n",
       "        [0.58178532]],\n",
       "\n",
       "       [[0.49432674],\n",
       "        [0.26589015],\n",
       "        [0.18013857],\n",
       "        [0.        ],\n",
       "        [0.22502259],\n",
       "        [0.28516919],\n",
       "        [0.35294708],\n",
       "        [0.24560699],\n",
       "        [0.33256351],\n",
       "        [0.32322522],\n",
       "        [0.25012551],\n",
       "        [0.25705392],\n",
       "        [0.32292399],\n",
       "        [0.34903103],\n",
       "        [0.22050407],\n",
       "        [0.11888744],\n",
       "        [0.14479365],\n",
       "        [0.2654885 ],\n",
       "        [0.23124812],\n",
       "        [0.35254544],\n",
       "        [0.40506075],\n",
       "        [0.53429059],\n",
       "        [0.53408977],\n",
       "        [0.60267095],\n",
       "        [0.61241088],\n",
       "        [0.620243  ],\n",
       "        [0.54945276],\n",
       "        [0.58359273],\n",
       "        [0.60588412],\n",
       "        [0.58720755],\n",
       "        [0.55407169],\n",
       "        [0.54051612],\n",
       "        [0.55698363],\n",
       "        [0.49171604],\n",
       "        [0.46902299],\n",
       "        [0.35887137],\n",
       "        [0.50266091],\n",
       "        [0.5102922 ],\n",
       "        [0.58178532],\n",
       "        [0.7035847 ]],\n",
       "\n",
       "       [[0.26589015],\n",
       "        [0.18013857],\n",
       "        [0.        ],\n",
       "        [0.22502259],\n",
       "        [0.28516919],\n",
       "        [0.35294708],\n",
       "        [0.24560699],\n",
       "        [0.33256351],\n",
       "        [0.32322522],\n",
       "        [0.25012551],\n",
       "        [0.25705392],\n",
       "        [0.32292399],\n",
       "        [0.34903103],\n",
       "        [0.22050407],\n",
       "        [0.11888744],\n",
       "        [0.14479365],\n",
       "        [0.2654885 ],\n",
       "        [0.23124812],\n",
       "        [0.35254544],\n",
       "        [0.40506075],\n",
       "        [0.53429059],\n",
       "        [0.53408977],\n",
       "        [0.60267095],\n",
       "        [0.61241088],\n",
       "        [0.620243  ],\n",
       "        [0.54945276],\n",
       "        [0.58359273],\n",
       "        [0.60588412],\n",
       "        [0.58720755],\n",
       "        [0.55407169],\n",
       "        [0.54051612],\n",
       "        [0.55698363],\n",
       "        [0.49171604],\n",
       "        [0.46902299],\n",
       "        [0.35887137],\n",
       "        [0.50266091],\n",
       "        [0.5102922 ],\n",
       "        [0.58178532],\n",
       "        [0.7035847 ],\n",
       "        [0.70860528]],\n",
       "\n",
       "       [[0.18013857],\n",
       "        [0.        ],\n",
       "        [0.22502259],\n",
       "        [0.28516919],\n",
       "        [0.35294708],\n",
       "        [0.24560699],\n",
       "        [0.33256351],\n",
       "        [0.32322522],\n",
       "        [0.25012551],\n",
       "        [0.25705392],\n",
       "        [0.32292399],\n",
       "        [0.34903103],\n",
       "        [0.22050407],\n",
       "        [0.11888744],\n",
       "        [0.14479365],\n",
       "        [0.2654885 ],\n",
       "        [0.23124812],\n",
       "        [0.35254544],\n",
       "        [0.40506075],\n",
       "        [0.53429059],\n",
       "        [0.53408977],\n",
       "        [0.60267095],\n",
       "        [0.61241088],\n",
       "        [0.620243  ],\n",
       "        [0.54945276],\n",
       "        [0.58359273],\n",
       "        [0.60588412],\n",
       "        [0.58720755],\n",
       "        [0.55407169],\n",
       "        [0.54051612],\n",
       "        [0.55698363],\n",
       "        [0.49171604],\n",
       "        [0.46902299],\n",
       "        [0.35887137],\n",
       "        [0.50266091],\n",
       "        [0.5102922 ],\n",
       "        [0.58178532],\n",
       "        [0.7035847 ],\n",
       "        [0.70860528],\n",
       "        [0.68992871]],\n",
       "\n",
       "       [[0.        ],\n",
       "        [0.22502259],\n",
       "        [0.28516919],\n",
       "        [0.35294708],\n",
       "        [0.24560699],\n",
       "        [0.33256351],\n",
       "        [0.32322522],\n",
       "        [0.25012551],\n",
       "        [0.25705392],\n",
       "        [0.32292399],\n",
       "        [0.34903103],\n",
       "        [0.22050407],\n",
       "        [0.11888744],\n",
       "        [0.14479365],\n",
       "        [0.2654885 ],\n",
       "        [0.23124812],\n",
       "        [0.35254544],\n",
       "        [0.40506075],\n",
       "        [0.53429059],\n",
       "        [0.53408977],\n",
       "        [0.60267095],\n",
       "        [0.61241088],\n",
       "        [0.620243  ],\n",
       "        [0.54945276],\n",
       "        [0.58359273],\n",
       "        [0.60588412],\n",
       "        [0.58720755],\n",
       "        [0.55407169],\n",
       "        [0.54051612],\n",
       "        [0.55698363],\n",
       "        [0.49171604],\n",
       "        [0.46902299],\n",
       "        [0.35887137],\n",
       "        [0.50266091],\n",
       "        [0.5102922 ],\n",
       "        [0.58178532],\n",
       "        [0.7035847 ],\n",
       "        [0.70860528],\n",
       "        [0.68992871],\n",
       "        [0.72125715]],\n",
       "\n",
       "       [[0.22502259],\n",
       "        [0.28516919],\n",
       "        [0.35294708],\n",
       "        [0.24560699],\n",
       "        [0.33256351],\n",
       "        [0.32322522],\n",
       "        [0.25012551],\n",
       "        [0.25705392],\n",
       "        [0.32292399],\n",
       "        [0.34903103],\n",
       "        [0.22050407],\n",
       "        [0.11888744],\n",
       "        [0.14479365],\n",
       "        [0.2654885 ],\n",
       "        [0.23124812],\n",
       "        [0.35254544],\n",
       "        [0.40506075],\n",
       "        [0.53429059],\n",
       "        [0.53408977],\n",
       "        [0.60267095],\n",
       "        [0.61241088],\n",
       "        [0.620243  ],\n",
       "        [0.54945276],\n",
       "        [0.58359273],\n",
       "        [0.60588412],\n",
       "        [0.58720755],\n",
       "        [0.55407169],\n",
       "        [0.54051612],\n",
       "        [0.55698363],\n",
       "        [0.49171604],\n",
       "        [0.46902299],\n",
       "        [0.35887137],\n",
       "        [0.50266091],\n",
       "        [0.5102922 ],\n",
       "        [0.58178532],\n",
       "        [0.7035847 ],\n",
       "        [0.70860528],\n",
       "        [0.68992871],\n",
       "        [0.72125715],\n",
       "        [0.70569334]],\n",
       "\n",
       "       [[0.28516919],\n",
       "        [0.35294708],\n",
       "        [0.24560699],\n",
       "        [0.33256351],\n",
       "        [0.32322522],\n",
       "        [0.25012551],\n",
       "        [0.25705392],\n",
       "        [0.32292399],\n",
       "        [0.34903103],\n",
       "        [0.22050407],\n",
       "        [0.11888744],\n",
       "        [0.14479365],\n",
       "        [0.2654885 ],\n",
       "        [0.23124812],\n",
       "        [0.35254544],\n",
       "        [0.40506075],\n",
       "        [0.53429059],\n",
       "        [0.53408977],\n",
       "        [0.60267095],\n",
       "        [0.61241088],\n",
       "        [0.620243  ],\n",
       "        [0.54945276],\n",
       "        [0.58359273],\n",
       "        [0.60588412],\n",
       "        [0.58720755],\n",
       "        [0.55407169],\n",
       "        [0.54051612],\n",
       "        [0.55698363],\n",
       "        [0.49171604],\n",
       "        [0.46902299],\n",
       "        [0.35887137],\n",
       "        [0.50266091],\n",
       "        [0.5102922 ],\n",
       "        [0.58178532],\n",
       "        [0.7035847 ],\n",
       "        [0.70860528],\n",
       "        [0.68992871],\n",
       "        [0.72125715],\n",
       "        [0.70569334],\n",
       "        [0.72095592]],\n",
       "\n",
       "       [[0.35294708],\n",
       "        [0.24560699],\n",
       "        [0.33256351],\n",
       "        [0.32322522],\n",
       "        [0.25012551],\n",
       "        [0.25705392],\n",
       "        [0.32292399],\n",
       "        [0.34903103],\n",
       "        [0.22050407],\n",
       "        [0.11888744],\n",
       "        [0.14479365],\n",
       "        [0.2654885 ],\n",
       "        [0.23124812],\n",
       "        [0.35254544],\n",
       "        [0.40506075],\n",
       "        [0.53429059],\n",
       "        [0.53408977],\n",
       "        [0.60267095],\n",
       "        [0.61241088],\n",
       "        [0.620243  ],\n",
       "        [0.54945276],\n",
       "        [0.58359273],\n",
       "        [0.60588412],\n",
       "        [0.58720755],\n",
       "        [0.55407169],\n",
       "        [0.54051612],\n",
       "        [0.55698363],\n",
       "        [0.49171604],\n",
       "        [0.46902299],\n",
       "        [0.35887137],\n",
       "        [0.50266091],\n",
       "        [0.5102922 ],\n",
       "        [0.58178532],\n",
       "        [0.7035847 ],\n",
       "        [0.70860528],\n",
       "        [0.68992871],\n",
       "        [0.72125715],\n",
       "        [0.70569334],\n",
       "        [0.72095592],\n",
       "        [0.6881213 ]],\n",
       "\n",
       "       [[0.24560699],\n",
       "        [0.33256351],\n",
       "        [0.32322522],\n",
       "        [0.25012551],\n",
       "        [0.25705392],\n",
       "        [0.32292399],\n",
       "        [0.34903103],\n",
       "        [0.22050407],\n",
       "        [0.11888744],\n",
       "        [0.14479365],\n",
       "        [0.2654885 ],\n",
       "        [0.23124812],\n",
       "        [0.35254544],\n",
       "        [0.40506075],\n",
       "        [0.53429059],\n",
       "        [0.53408977],\n",
       "        [0.60267095],\n",
       "        [0.61241088],\n",
       "        [0.620243  ],\n",
       "        [0.54945276],\n",
       "        [0.58359273],\n",
       "        [0.60588412],\n",
       "        [0.58720755],\n",
       "        [0.55407169],\n",
       "        [0.54051612],\n",
       "        [0.55698363],\n",
       "        [0.49171604],\n",
       "        [0.46902299],\n",
       "        [0.35887137],\n",
       "        [0.50266091],\n",
       "        [0.5102922 ],\n",
       "        [0.58178532],\n",
       "        [0.7035847 ],\n",
       "        [0.70860528],\n",
       "        [0.68992871],\n",
       "        [0.72125715],\n",
       "        [0.70569334],\n",
       "        [0.72095592],\n",
       "        [0.6881213 ],\n",
       "        [0.7027814 ]],\n",
       "\n",
       "       [[0.33256351],\n",
       "        [0.32322522],\n",
       "        [0.25012551],\n",
       "        [0.25705392],\n",
       "        [0.32292399],\n",
       "        [0.34903103],\n",
       "        [0.22050407],\n",
       "        [0.11888744],\n",
       "        [0.14479365],\n",
       "        [0.2654885 ],\n",
       "        [0.23124812],\n",
       "        [0.35254544],\n",
       "        [0.40506075],\n",
       "        [0.53429059],\n",
       "        [0.53408977],\n",
       "        [0.60267095],\n",
       "        [0.61241088],\n",
       "        [0.620243  ],\n",
       "        [0.54945276],\n",
       "        [0.58359273],\n",
       "        [0.60588412],\n",
       "        [0.58720755],\n",
       "        [0.55407169],\n",
       "        [0.54051612],\n",
       "        [0.55698363],\n",
       "        [0.49171604],\n",
       "        [0.46902299],\n",
       "        [0.35887137],\n",
       "        [0.50266091],\n",
       "        [0.5102922 ],\n",
       "        [0.58178532],\n",
       "        [0.7035847 ],\n",
       "        [0.70860528],\n",
       "        [0.68992871],\n",
       "        [0.72125715],\n",
       "        [0.70569334],\n",
       "        [0.72095592],\n",
       "        [0.6881213 ],\n",
       "        [0.7027814 ],\n",
       "        [0.66362085]],\n",
       "\n",
       "       [[0.32322522],\n",
       "        [0.25012551],\n",
       "        [0.25705392],\n",
       "        [0.32292399],\n",
       "        [0.34903103],\n",
       "        [0.22050407],\n",
       "        [0.11888744],\n",
       "        [0.14479365],\n",
       "        [0.2654885 ],\n",
       "        [0.23124812],\n",
       "        [0.35254544],\n",
       "        [0.40506075],\n",
       "        [0.53429059],\n",
       "        [0.53408977],\n",
       "        [0.60267095],\n",
       "        [0.61241088],\n",
       "        [0.620243  ],\n",
       "        [0.54945276],\n",
       "        [0.58359273],\n",
       "        [0.60588412],\n",
       "        [0.58720755],\n",
       "        [0.55407169],\n",
       "        [0.54051612],\n",
       "        [0.55698363],\n",
       "        [0.49171604],\n",
       "        [0.46902299],\n",
       "        [0.35887137],\n",
       "        [0.50266091],\n",
       "        [0.5102922 ],\n",
       "        [0.58178532],\n",
       "        [0.7035847 ],\n",
       "        [0.70860528],\n",
       "        [0.68992871],\n",
       "        [0.72125715],\n",
       "        [0.70569334],\n",
       "        [0.72095592],\n",
       "        [0.6881213 ],\n",
       "        [0.7027814 ],\n",
       "        [0.66362085],\n",
       "        [0.69223818]],\n",
       "\n",
       "       [[0.25012551],\n",
       "        [0.25705392],\n",
       "        [0.32292399],\n",
       "        [0.34903103],\n",
       "        [0.22050407],\n",
       "        [0.11888744],\n",
       "        [0.14479365],\n",
       "        [0.2654885 ],\n",
       "        [0.23124812],\n",
       "        [0.35254544],\n",
       "        [0.40506075],\n",
       "        [0.53429059],\n",
       "        [0.53408977],\n",
       "        [0.60267095],\n",
       "        [0.61241088],\n",
       "        [0.620243  ],\n",
       "        [0.54945276],\n",
       "        [0.58359273],\n",
       "        [0.60588412],\n",
       "        [0.58720755],\n",
       "        [0.55407169],\n",
       "        [0.54051612],\n",
       "        [0.55698363],\n",
       "        [0.49171604],\n",
       "        [0.46902299],\n",
       "        [0.35887137],\n",
       "        [0.50266091],\n",
       "        [0.5102922 ],\n",
       "        [0.58178532],\n",
       "        [0.7035847 ],\n",
       "        [0.70860528],\n",
       "        [0.68992871],\n",
       "        [0.72125715],\n",
       "        [0.70569334],\n",
       "        [0.72095592],\n",
       "        [0.6881213 ],\n",
       "        [0.7027814 ],\n",
       "        [0.66362085],\n",
       "        [0.69223818],\n",
       "        [0.83572648]],\n",
       "\n",
       "       [[0.25705392],\n",
       "        [0.32292399],\n",
       "        [0.34903103],\n",
       "        [0.22050407],\n",
       "        [0.11888744],\n",
       "        [0.14479365],\n",
       "        [0.2654885 ],\n",
       "        [0.23124812],\n",
       "        [0.35254544],\n",
       "        [0.40506075],\n",
       "        [0.53429059],\n",
       "        [0.53408977],\n",
       "        [0.60267095],\n",
       "        [0.61241088],\n",
       "        [0.620243  ],\n",
       "        [0.54945276],\n",
       "        [0.58359273],\n",
       "        [0.60588412],\n",
       "        [0.58720755],\n",
       "        [0.55407169],\n",
       "        [0.54051612],\n",
       "        [0.55698363],\n",
       "        [0.49171604],\n",
       "        [0.46902299],\n",
       "        [0.35887137],\n",
       "        [0.50266091],\n",
       "        [0.5102922 ],\n",
       "        [0.58178532],\n",
       "        [0.7035847 ],\n",
       "        [0.70860528],\n",
       "        [0.68992871],\n",
       "        [0.72125715],\n",
       "        [0.70569334],\n",
       "        [0.72095592],\n",
       "        [0.6881213 ],\n",
       "        [0.7027814 ],\n",
       "        [0.66362085],\n",
       "        [0.69223818],\n",
       "        [0.83572648],\n",
       "        [0.88151421]],\n",
       "\n",
       "       [[0.32292399],\n",
       "        [0.34903103],\n",
       "        [0.22050407],\n",
       "        [0.11888744],\n",
       "        [0.14479365],\n",
       "        [0.2654885 ],\n",
       "        [0.23124812],\n",
       "        [0.35254544],\n",
       "        [0.40506075],\n",
       "        [0.53429059],\n",
       "        [0.53408977],\n",
       "        [0.60267095],\n",
       "        [0.61241088],\n",
       "        [0.620243  ],\n",
       "        [0.54945276],\n",
       "        [0.58359273],\n",
       "        [0.60588412],\n",
       "        [0.58720755],\n",
       "        [0.55407169],\n",
       "        [0.54051612],\n",
       "        [0.55698363],\n",
       "        [0.49171604],\n",
       "        [0.46902299],\n",
       "        [0.35887137],\n",
       "        [0.50266091],\n",
       "        [0.5102922 ],\n",
       "        [0.58178532],\n",
       "        [0.7035847 ],\n",
       "        [0.70860528],\n",
       "        [0.68992871],\n",
       "        [0.72125715],\n",
       "        [0.70569334],\n",
       "        [0.72095592],\n",
       "        [0.6881213 ],\n",
       "        [0.7027814 ],\n",
       "        [0.66362085],\n",
       "        [0.69223818],\n",
       "        [0.83572648],\n",
       "        [0.88151421],\n",
       "        [1.        ]],\n",
       "\n",
       "       [[0.34903103],\n",
       "        [0.22050407],\n",
       "        [0.11888744],\n",
       "        [0.14479365],\n",
       "        [0.2654885 ],\n",
       "        [0.23124812],\n",
       "        [0.35254544],\n",
       "        [0.40506075],\n",
       "        [0.53429059],\n",
       "        [0.53408977],\n",
       "        [0.60267095],\n",
       "        [0.61241088],\n",
       "        [0.620243  ],\n",
       "        [0.54945276],\n",
       "        [0.58359273],\n",
       "        [0.60588412],\n",
       "        [0.58720755],\n",
       "        [0.55407169],\n",
       "        [0.54051612],\n",
       "        [0.55698363],\n",
       "        [0.49171604],\n",
       "        [0.46902299],\n",
       "        [0.35887137],\n",
       "        [0.50266091],\n",
       "        [0.5102922 ],\n",
       "        [0.58178532],\n",
       "        [0.7035847 ],\n",
       "        [0.70860528],\n",
       "        [0.68992871],\n",
       "        [0.72125715],\n",
       "        [0.70569334],\n",
       "        [0.72095592],\n",
       "        [0.6881213 ],\n",
       "        [0.7027814 ],\n",
       "        [0.66362085],\n",
       "        [0.69223818],\n",
       "        [0.83572648],\n",
       "        [0.88151421],\n",
       "        [1.        ],\n",
       "        [0.96465509]],\n",
       "\n",
       "       [[0.22050407],\n",
       "        [0.11888744],\n",
       "        [0.14479365],\n",
       "        [0.2654885 ],\n",
       "        [0.23124812],\n",
       "        [0.35254544],\n",
       "        [0.40506075],\n",
       "        [0.53429059],\n",
       "        [0.53408977],\n",
       "        [0.60267095],\n",
       "        [0.61241088],\n",
       "        [0.620243  ],\n",
       "        [0.54945276],\n",
       "        [0.58359273],\n",
       "        [0.60588412],\n",
       "        [0.58720755],\n",
       "        [0.55407169],\n",
       "        [0.54051612],\n",
       "        [0.55698363],\n",
       "        [0.49171604],\n",
       "        [0.46902299],\n",
       "        [0.35887137],\n",
       "        [0.50266091],\n",
       "        [0.5102922 ],\n",
       "        [0.58178532],\n",
       "        [0.7035847 ],\n",
       "        [0.70860528],\n",
       "        [0.68992871],\n",
       "        [0.72125715],\n",
       "        [0.70569334],\n",
       "        [0.72095592],\n",
       "        [0.6881213 ],\n",
       "        [0.7027814 ],\n",
       "        [0.66362085],\n",
       "        [0.69223818],\n",
       "        [0.83572648],\n",
       "        [0.88151421],\n",
       "        [1.        ],\n",
       "        [0.96465509],\n",
       "        [0.87589115]],\n",
       "\n",
       "       [[0.11888744],\n",
       "        [0.14479365],\n",
       "        [0.2654885 ],\n",
       "        [0.23124812],\n",
       "        [0.35254544],\n",
       "        [0.40506075],\n",
       "        [0.53429059],\n",
       "        [0.53408977],\n",
       "        [0.60267095],\n",
       "        [0.61241088],\n",
       "        [0.620243  ],\n",
       "        [0.54945276],\n",
       "        [0.58359273],\n",
       "        [0.60588412],\n",
       "        [0.58720755],\n",
       "        [0.55407169],\n",
       "        [0.54051612],\n",
       "        [0.55698363],\n",
       "        [0.49171604],\n",
       "        [0.46902299],\n",
       "        [0.35887137],\n",
       "        [0.50266091],\n",
       "        [0.5102922 ],\n",
       "        [0.58178532],\n",
       "        [0.7035847 ],\n",
       "        [0.70860528],\n",
       "        [0.68992871],\n",
       "        [0.72125715],\n",
       "        [0.70569334],\n",
       "        [0.72095592],\n",
       "        [0.6881213 ],\n",
       "        [0.7027814 ],\n",
       "        [0.66362085],\n",
       "        [0.69223818],\n",
       "        [0.83572648],\n",
       "        [0.88151421],\n",
       "        [1.        ],\n",
       "        [0.96465509],\n",
       "        [0.87589115],\n",
       "        [0.66512702]]])"
      ]
     },
     "execution_count": 36,
     "metadata": {},
     "output_type": "execute_result"
    }
   ],
   "source": [
    "## Reshaping and viewing the frame\n",
    "x_test= x_test.reshape(x_test.shape[0], x_test.shape[1], 1)\n",
    "x_test"
   ]
  },
  {
   "cell_type": "code",
   "execution_count": 37,
   "id": "5f6f2ff4",
   "metadata": {},
   "outputs": [
    {
     "data": {
      "text/plain": [
       "(20, 40, 1)"
      ]
     },
     "execution_count": 37,
     "metadata": {},
     "output_type": "execute_result"
    }
   ],
   "source": [
    "## Checking the shape \n",
    "x_test.shape"
   ]
  },
  {
   "cell_type": "markdown",
   "id": "c9457b36",
   "metadata": {},
   "source": [
    "### Predicting the closing Price of Stock using Test Data"
   ]
  },
  {
   "cell_type": "code",
   "execution_count": 38,
   "id": "b07962e6",
   "metadata": {},
   "outputs": [
    {
     "name": "stdout",
     "output_type": "stream",
     "text": [
      "1/1 [==============================] - 1s 1s/step\n"
     ]
    },
    {
     "data": {
      "text/plain": [
       "array([[0.45041126],\n",
       "       [0.4297737 ],\n",
       "       [0.43722224],\n",
       "       [0.45762223],\n",
       "       [0.49155176],\n",
       "       [0.5381511 ],\n",
       "       [0.5907198 ],\n",
       "       [0.6415064 ],\n",
       "       [0.6822592 ],\n",
       "       [0.70776993],\n",
       "       [0.712314  ],\n",
       "       [0.7041369 ],\n",
       "       [0.6860471 ],\n",
       "       [0.67819387],\n",
       "       [0.68662035],\n",
       "       [0.7131735 ],\n",
       "       [0.76116437],\n",
       "       [0.82089007],\n",
       "       [0.87064534],\n",
       "       [0.80157095]], dtype=float32)"
      ]
     },
     "execution_count": 38,
     "metadata": {},
     "output_type": "execute_result"
    }
   ],
   "source": [
    "predicted_value= model.predict(x_test)\n",
    "predicted_value"
   ]
  },
  {
   "cell_type": "code",
   "execution_count": 39,
   "id": "2f49fd63",
   "metadata": {},
   "outputs": [
    {
     "data": {
      "text/plain": [
       "array([[780.93646],\n",
       "       [778.88116],\n",
       "       [779.623  ],\n",
       "       [781.6546 ],\n",
       "       [785.0336 ],\n",
       "       [789.67444],\n",
       "       [794.9098 ],\n",
       "       [799.96765],\n",
       "       [804.0262 ],\n",
       "       [806.5668 ],\n",
       "       [807.01935],\n",
       "       [806.205  ],\n",
       "       [804.4034 ],\n",
       "       [803.62134],\n",
       "       [804.4605 ],\n",
       "       [807.1049 ],\n",
       "       [811.88434],\n",
       "       [817.8324 ],\n",
       "       [822.7876 ],\n",
       "       [815.90845]], dtype=float32)"
      ]
     },
     "execution_count": 39,
     "metadata": {},
     "output_type": "execute_result"
    }
   ],
   "source": [
    "## transforming the predicted value in inverse form\n",
    "predicted_value= scaler.inverse_transform(predicted_value)\n",
    "predicted_value"
   ]
  },
  {
   "cell_type": "code",
   "execution_count": 40,
   "id": "b7623e24",
   "metadata": {},
   "outputs": [
    {
     "data": {
      "text/html": [
       "<div>\n",
       "<style scoped>\n",
       "    .dataframe tbody tr th:only-of-type {\n",
       "        vertical-align: middle;\n",
       "    }\n",
       "\n",
       "    .dataframe tbody tr th {\n",
       "        vertical-align: top;\n",
       "    }\n",
       "\n",
       "    .dataframe thead th {\n",
       "        text-align: right;\n",
       "    }\n",
       "</style>\n",
       "<table border=\"1\" class=\"dataframe\">\n",
       "  <thead>\n",
       "    <tr style=\"text-align: right;\">\n",
       "      <th></th>\n",
       "      <th>Close</th>\n",
       "      <th>predicted_value</th>\n",
       "    </tr>\n",
       "    <tr>\n",
       "      <th>Date</th>\n",
       "      <th></th>\n",
       "      <th></th>\n",
       "    </tr>\n",
       "  </thead>\n",
       "  <tbody>\n",
       "    <tr>\n",
       "      <th>2017-01-03</th>\n",
       "      <td>786.14</td>\n",
       "      <td>780.936462</td>\n",
       "    </tr>\n",
       "    <tr>\n",
       "      <th>2017-01-04</th>\n",
       "      <td>786.90</td>\n",
       "      <td>778.881165</td>\n",
       "    </tr>\n",
       "    <tr>\n",
       "      <th>2017-01-05</th>\n",
       "      <td>794.02</td>\n",
       "      <td>779.622986</td>\n",
       "    </tr>\n",
       "    <tr>\n",
       "      <th>2017-01-06</th>\n",
       "      <td>806.15</td>\n",
       "      <td>781.654602</td>\n",
       "    </tr>\n",
       "    <tr>\n",
       "      <th>2017-01-09</th>\n",
       "      <td>806.65</td>\n",
       "      <td>785.033630</td>\n",
       "    </tr>\n",
       "  </tbody>\n",
       "</table>\n",
       "</div>"
      ],
      "text/plain": [
       "             Close  predicted_value\n",
       "Date                               \n",
       "2017-01-03  786.14       780.936462\n",
       "2017-01-04  786.90       778.881165\n",
       "2017-01-05  794.02       779.622986\n",
       "2017-01-06  806.15       781.654602\n",
       "2017-01-09  806.65       785.033630"
      ]
     },
     "execution_count": 40,
     "metadata": {},
     "output_type": "execute_result"
    }
   ],
   "source": [
    "data_test['predicted_value']= predicted_value\n",
    "data_test.head()"
   ]
  },
  {
   "cell_type": "markdown",
   "id": "577756a7",
   "metadata": {},
   "source": [
    "### Plotting the Graph between Actual Price and Predicted Price"
   ]
  },
  {
   "cell_type": "code",
   "execution_count": 41,
   "id": "f69df559",
   "metadata": {},
   "outputs": [
    {
     "data": {
      "text/plain": [
       "<matplotlib.legend.Legend at 0x2ae90671b20>"
      ]
     },
     "execution_count": 41,
     "metadata": {},
     "output_type": "execute_result"
    },
    {
     "data": {
      "image/png": "[encoded data removed]",
      "text/plain": [
       "<Figure size 1600x800 with 1 Axes>"
      ]
     },
     "metadata": {},
     "output_type": "display_data"
    }
   ],
   "source": [
    "plt.figure(figsize= (16,8))\n",
    "plt.plot(data_test['Close'], 'red', label= 'Actual Price')\n",
    "plt.plot(data_test['predicted_value'], 'blue', label= 'Predicted value')\n",
    "plt.xlabel('date')\n",
    "plt.ylabel('Prices')\n",
    "plt.title('Real vs Predicted Prices')\n",
    "plt.legend(loc='best', fontsize=20)"
   ]
  },
  {
   "cell_type": "code",
   "execution_count": 42,
   "id": "b7413e5c",
   "metadata": {},
   "outputs": [
    {
     "name": "stdout",
     "output_type": "stream",
     "text": [
      "dict_keys(['loss', 'accuracy', 'val_loss', 'val_accuracy'])\n"
     ]
    }
   ],
   "source": [
    "print(history.history.keys())"
   ]
  },
  {
   "cell_type": "markdown",
   "id": "3489ab7f",
   "metadata": {},
   "source": [
    "### Conclusion\n",
    "As you can see above, the model can predict the trend of the actual stock prices very closely. The accuracy of the model can be enhanced by training with more data and increasing the LSTM layers."
   ]
  },
  {
   "cell_type": "markdown",
   "id": "bedddaad",
   "metadata": {},
   "source": [
    "### Plotting the Validation loss curve to find out if it is good fit or not"
   ]
  },
  {
   "cell_type": "code",
   "execution_count": 43,
   "id": "61fc9e5f",
   "metadata": {},
   "outputs": [
    {
     "data": {
      "image/png": "[encoded data removed]",
      "text/plain": [
       "<Figure size 1600x1000 with 1 Axes>"
      ]
     },
     "metadata": {},
     "output_type": "display_data"
    }
   ],
   "source": [
    "plt.figure(figsize= (16,10))\n",
    "plt.plot(history.history['loss'])\n",
    "plt.plot(history.history['val_loss'])\n",
    "plt.title('model loss')\n",
    "plt.ylabel('loss')\n",
    "plt.xlabel('epoch')\n",
    "plt.legend(['train', 'test'], loc='upper left')\n",
    "plt.show()"
   ]
  },
  {
   "cell_type": "markdown",
   "id": "54be774b",
   "metadata": {},
   "source": [
    "### Conclusion\n",
    "As you can see above, the model can predict the trend of the actual stock prices very closely. The accuracy of the model can be enhanced by training with more data and increasing the LSTM layers."
   ]
  },
  {
   "cell_type": "markdown",
   "id": "724806c3",
   "metadata": {},
   "source": [
    "                                - - - - - - - - X X X X X X X X - - - - - - - - "
   ]
  },
  {
   "cell_type": "code",
   "execution_count": null,
   "id": "d02a7667",
   "metadata": {},
   "outputs": [],
   "source": []
  }
 ],
 "metadata": {
  "kernelspec": {
   "display_name": "Python 3 (ipykernel)",
   "language": "python",
   "name": "python3"
  },
  "language_info": {
   "codemirror_mode": {
    "name": "ipython",
    "version": 3
   },
   "file_extension": ".py",
   "mimetype": "text/x-python",
   "name": "python",
   "nbconvert_exporter": "python",
   "pygments_lexer": "ipython3",
   "version": "3.9.13"
  }
 },
 "nbformat": 4,
 "nbformat_minor": 5
}
